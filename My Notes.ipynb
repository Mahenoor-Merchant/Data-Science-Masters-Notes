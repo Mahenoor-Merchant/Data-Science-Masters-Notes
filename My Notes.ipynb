{
 "cells": [
  {
   "cell_type": "markdown",
   "id": "df780844-1fc3-4f34-b311-9a079a2ed1d5",
   "metadata": {},
   "source": [
    "### Who developed Python progamming language?"
   ]
  },
  {
   "cell_type": "markdown",
   "id": "f72a367c-390f-4075-8d0e-7b90ccea7a1a",
   "metadata": {},
   "source": [
    " Guido van Rossum developed Python Progamming language."
   ]
  },
  {
   "cell_type": "markdown",
   "id": "9031e3b6-5a38-4175-ba14-82527ce6ca32",
   "metadata": {},
   "source": [
    "### Which type of programming does python support?"
   ]
  },
  {
   "cell_type": "markdown",
   "id": "16f6b5ee-2aac-47d3-a841-f3da352b1618",
   "metadata": {},
   "source": [
    " Python is an interpreted programming language, supporting object-oriented, structured, and functional programming.\")"
   ]
  },
  {
   "cell_type": "markdown",
   "id": "df6e6b16-3150-43b4-bc4e-45b1de051e70",
   "metadata": {},
   "source": [
    "### Is Python case sensitive when dealing with identifier?"
   ]
  },
  {
   "cell_type": "markdown",
   "id": "3711d863-7bad-46db-84fd-98bec7781376",
   "metadata": {},
   "source": [
    "Yes, Python is a case-sensitive language, i.e., it treats uppercase and lowercase characters differently.\n",
    "This applies to identifiers too."
   ]
  },
  {
   "cell_type": "markdown",
   "id": "e15e48e1-5b9c-4131-80f1-30333be6d787",
   "metadata": {},
   "source": [
    "### What is the correct extension of the Python file?"
   ]
  },
  {
   "cell_type": "markdown",
   "id": "8481f994-9990-4f1c-8533-cb01fb8462f8",
   "metadata": {},
   "source": [
    "Python file extensions are .py .pyi .pyc .pyd .pyo .pyw .pyz"
   ]
  },
  {
   "cell_type": "markdown",
   "id": "824e6a9c-5d2c-431f-9eec-0db1cf0baa18",
   "metadata": {},
   "source": [
    "### Mention a few built in functions in python\n",
    " print() function.\n",
    "\n",
    "type() function.\n",
    "\n",
    "input() function.\n",
    "\n",
    "abs() function.\n",
    "\n",
    "pow() function.\n",
    "\n",
    "dir() function.\n",
    "\n",
    "sorted() function.\n",
    "\n",
    "max() function."
   ]
  },
  {
   "cell_type": "markdown",
   "id": "6a26e893-5631-480a-ada5-60bd017c670f",
   "metadata": {},
   "source": [
    "### What are several built-in data types  in Python that can be used to store different kinds of data?"
   ]
  },
  {
   "cell_type": "markdown",
   "id": "7b6948d2-c89c-4d8e-ab19-df2ce24286b0",
   "metadata": {},
   "source": [
    "### Numeric Types\n",
    "Numeric types in Python include integers, floating-point numbers, and complex numbers.\n",
    "\n",
    "Integers are whole numbers, such as 1, 2, 3, etc.\n",
    "\n",
    "Floating-point numbers are decimal numbers, such as 3.14, 2.5, etc.\n",
    "\n",
    "Complex numbers are numbers that have a real part and an imaginary part, such as 1 + 2j, 3 + 4j, etc."
   ]
  },
  {
   "cell_type": "code",
   "execution_count": 6,
   "id": "7980005e-59f9-4f71-8796-55e3a3879202",
   "metadata": {},
   "outputs": [
    {
     "name": "stdout",
     "output_type": "stream",
     "text": [
      "<class 'int'>\n",
      "<class 'float'>\n",
      "<class 'complex'>\n"
     ]
    }
   ],
   "source": [
    "x=5\n",
    "print(type(x))\n",
    "#int means integer\n",
    "\n",
    "y=4.25\n",
    "print(type(y))\n",
    "#float means floating point number\n",
    "\n",
    "z=1+2j\n",
    "print(type(z))\n",
    "#complex means its a complex number\n"
   ]
  },
  {
   "cell_type": "markdown",
   "id": "5960a06a-db9b-4777-bf08-6a8956a89d1a",
   "metadata": {},
   "source": [
    "###  Boolean Type\n",
    "\n",
    "The boolean type in Python is used to represent truth values.\n",
    "\n",
    "There are two boolean values in Python: True and False.\n",
    "\n",
    "Boolean values are often used in conditional statements and loops to control the flow of a program.\n",
    "\n",
    "The in-built value for True is 1 and for False is 0."
   ]
  },
  {
   "cell_type": "code",
   "execution_count": 8,
   "id": "3643d680-08c7-4892-a7d8-c3850c2ea85e",
   "metadata": {},
   "outputs": [
    {
     "name": "stdout",
     "output_type": "stream",
     "text": [
      "<class 'bool'>\n",
      "<class 'bool'>\n",
      "a+b= 1\n",
      "a-b= 1\n"
     ]
    }
   ],
   "source": [
    "a=True\n",
    "print(type(a))\n",
    "\n",
    "b=False \n",
    "print(type(b))\n",
    "\n",
    "print(\"a+b=\", a+b)\n",
    "print(\"a-b=\", a-b)"
   ]
  },
  {
   "cell_type": "markdown",
   "id": "37214d26-64ad-4121-9856-c1a0da18237f",
   "metadata": {},
   "source": [
    "### String Type\n",
    "\n",
    "Strings in Python are used to represent text data.\n",
    "\n",
    "Strings are created by enclosing a sequence of characters in single quotes, double quotes, or triple quotes.\n",
    "\n",
    "Strings can be concatenated using the + operator and can be sliced using the [] operator.\n"
   ]
  },
  {
   "cell_type": "code",
   "execution_count": 10,
   "id": "3a1b27b9-611e-4a04-b8ca-f68f21dfcf1f",
   "metadata": {},
   "outputs": [
    {
     "name": "stdout",
     "output_type": "stream",
     "text": [
      "<class 'str'>\n"
     ]
    }
   ],
   "source": [
    "s=\"this is a string\"\n",
    "print(type(s))"
   ]
  },
  {
   "cell_type": "markdown",
   "id": "cdd74f17-ba4c-4eda-8a23-556d3c8c895f",
   "metadata": {},
   "source": [
    "### List Type\n",
    "\n",
    "Lists in Python are used to represent a collection of values.\n",
    "\n",
    "Lists are created by enclosing a sequence of values in square brackets, separated by commas.\n",
    "\n",
    "Lists can be indexed and sliced using the [] operator, and can be modified using various methods such as append(), insert(), remove(), etc."
   ]
  },
  {
   "cell_type": "code",
   "execution_count": 7,
   "id": "7e219f23-493f-4222-a143-e1bdb958b6a9",
   "metadata": {},
   "outputs": [
    {
     "name": "stdout",
     "output_type": "stream",
     "text": [
      "[1, 2, 3, 4, 5, 6] <class 'list'>\n"
     ]
    }
   ],
   "source": [
    "list1=[1,2,3,4,5,6]\n",
    "print(list1,type(list1))"
   ]
  },
  {
   "cell_type": "code",
   "execution_count": 47,
   "id": "132e0847-60f4-4692-958c-7334e2b7afa0",
   "metadata": {},
   "outputs": [
    {
     "data": {
      "text/plain": [
       "list"
      ]
     },
     "execution_count": 47,
     "metadata": {},
     "output_type": "execute_result"
    }
   ],
   "source": [
    "type(list1)"
   ]
  },
  {
   "cell_type": "code",
   "execution_count": 8,
   "id": "d0e96478-b742-4dc2-9cd2-d47558da9b53",
   "metadata": {},
   "outputs": [
    {
     "data": {
      "text/plain": [
       "1"
      ]
     },
     "execution_count": 8,
     "metadata": {},
     "output_type": "execute_result"
    }
   ],
   "source": [
    "list1[0]\n",
    "#indexing operation"
   ]
  },
  {
   "cell_type": "code",
   "execution_count": 11,
   "id": "33a9987d-2b52-427b-81f3-f5c430525c1b",
   "metadata": {},
   "outputs": [
    {
     "data": {
      "text/plain": [
       "[2, 3]"
      ]
     },
     "execution_count": 11,
     "metadata": {},
     "output_type": "execute_result"
    }
   ],
   "source": [
    "#slicing operation\n",
    "list1[1:3]"
   ]
  },
  {
   "cell_type": "code",
   "execution_count": 10,
   "id": "4511519c-c762-4291-ab51-0af682cd645f",
   "metadata": {},
   "outputs": [
    {
     "data": {
      "text/plain": [
       "[6, 5, 4, 3, 2]"
      ]
     },
     "execution_count": 10,
     "metadata": {},
     "output_type": "execute_result"
    }
   ],
   "source": [
    "list1[7:0:-1]"
   ]
  },
  {
   "cell_type": "code",
   "execution_count": 20,
   "id": "6933562d-e258-4ff4-b379-c9de104fc9b8",
   "metadata": {},
   "outputs": [],
   "source": [
    "l=[\"a\",\"b\",\"c\",\"d\"]"
   ]
  },
  {
   "cell_type": "code",
   "execution_count": 22,
   "id": "ea85c5e6-6d79-4ce9-ba01-365a9f64c96c",
   "metadata": {},
   "outputs": [
    {
     "name": "stdout",
     "output_type": "stream",
     "text": [
      "['a', 'b', 'c', 'd', 'e', 'e']\n"
     ]
    }
   ],
   "source": [
    "#appending operation\n",
    "l.append(\"e\")\n",
    "print(l)"
   ]
  },
  {
   "cell_type": "code",
   "execution_count": 32,
   "id": "777feb27-2e66-4de1-a91a-6af642ed7b8f",
   "metadata": {},
   "outputs": [],
   "source": [
    "#inserting in a list\n",
    "l.insert(0,0)"
   ]
  },
  {
   "cell_type": "code",
   "execution_count": 24,
   "id": "0dec01e5-e1eb-4c9a-a202-29de0800685b",
   "metadata": {},
   "outputs": [
    {
     "data": {
      "text/plain": [
       "[0, 'a', 'b', 'c', 'd', 'e', 'e']"
      ]
     },
     "execution_count": 24,
     "metadata": {},
     "output_type": "execute_result"
    }
   ],
   "source": [
    "l"
   ]
  },
  {
   "cell_type": "code",
   "execution_count": 33,
   "id": "2f15be4e-2a90-4de5-9666-10a5e84d92e4",
   "metadata": {},
   "outputs": [],
   "source": [
    "#removing a value\n",
    "l.remove(0)"
   ]
  },
  {
   "cell_type": "code",
   "execution_count": 31,
   "id": "e8af5f47-bc35-4869-8e7d-4224b007b587",
   "metadata": {},
   "outputs": [
    {
     "data": {
      "text/plain": [
       "['a', 'b', 'c', 'd', 'e', 'e']"
      ]
     },
     "execution_count": 31,
     "metadata": {},
     "output_type": "execute_result"
    }
   ],
   "source": [
    "l"
   ]
  },
  {
   "cell_type": "markdown",
   "id": "a90d58be-bac9-4413-b7a7-71f599971c52",
   "metadata": {},
   "source": [
    "###  Tuple Type\n",
    "\n",
    "Tuples in Python are similar to lists, but they are immutable, which means they cannot be modified after they are created.\n",
    "\n",
    "Tuples are created by enclosing a sequence of values in parentheses, separated by commas.\n",
    "\n",
    "Tuples can be indexed and sliced using the [] operator, but cannot be modified.\n"
   ]
  },
  {
   "cell_type": "code",
   "execution_count": 34,
   "id": "46adb0a4-725e-40ab-9ecd-e2d5c57aad9f",
   "metadata": {},
   "outputs": [],
   "source": [
    "t=(\"lion\",\"tiger\",\"kangaroo\")"
   ]
  },
  {
   "cell_type": "code",
   "execution_count": 46,
   "id": "4cbf342f-d62d-4a5f-9968-a01620f34d34",
   "metadata": {},
   "outputs": [
    {
     "data": {
      "text/plain": [
       "tuple"
      ]
     },
     "execution_count": 46,
     "metadata": {},
     "output_type": "execute_result"
    }
   ],
   "source": [
    "type(t)"
   ]
  },
  {
   "cell_type": "code",
   "execution_count": 35,
   "id": "b5a2598c-3e6d-4f11-99c3-86fea0d3a6f2",
   "metadata": {},
   "outputs": [
    {
     "data": {
      "text/plain": [
       "1"
      ]
     },
     "execution_count": 35,
     "metadata": {},
     "output_type": "execute_result"
    }
   ],
   "source": [
    "t.count(\"tiger\")"
   ]
  },
  {
   "cell_type": "code",
   "execution_count": 37,
   "id": "77165679-ec44-48ff-896d-d1e434eaa9ea",
   "metadata": {},
   "outputs": [
    {
     "data": {
      "text/plain": [
       "0"
      ]
     },
     "execution_count": 37,
     "metadata": {},
     "output_type": "execute_result"
    }
   ],
   "source": [
    "t.index(\"lion\")"
   ]
  },
  {
   "cell_type": "markdown",
   "id": "8925cdfe-440d-43b6-84be-1cbdb2346c9a",
   "metadata": {},
   "source": [
    "### Set Type\n",
    "\n",
    "Sets in Python are used to represent a collection of unique values.\n",
    "\n",
    "Sets are created by enclosing a sequence of values in curly braces, separated by commas.\n",
    "\n",
    "Sets can be modified using methods such as add(), remove(), etc."
   ]
  },
  {
   "cell_type": "code",
   "execution_count": 38,
   "id": "8036a7e3-4224-4a81-8179-38570e733f70",
   "metadata": {},
   "outputs": [],
   "source": [
    "s1={1,2,3,4}"
   ]
  },
  {
   "cell_type": "code",
   "execution_count": 45,
   "id": "dbc8d266-1ace-4961-8f30-2ab5cad78b22",
   "metadata": {},
   "outputs": [
    {
     "data": {
      "text/plain": [
       "set"
      ]
     },
     "execution_count": 45,
     "metadata": {},
     "output_type": "execute_result"
    }
   ],
   "source": [
    "type(s1)"
   ]
  },
  {
   "cell_type": "code",
   "execution_count": 41,
   "id": "46809a86-dee2-43b3-bedc-aa3ba919b135",
   "metadata": {},
   "outputs": [
    {
     "data": {
      "text/plain": [
       "{1, 2, 3, 4, 5}"
      ]
     },
     "execution_count": 41,
     "metadata": {},
     "output_type": "execute_result"
    }
   ],
   "source": [
    "s1.add(5)\n",
    "\n",
    "s1"
   ]
  },
  {
   "cell_type": "code",
   "execution_count": 42,
   "id": "ea15afec-78a2-4951-8f12-bdd188d41f2c",
   "metadata": {},
   "outputs": [],
   "source": [
    "s1.remove(1)"
   ]
  },
  {
   "cell_type": "code",
   "execution_count": 43,
   "id": "67a7f617-8457-486c-86b1-41dfd257dcf5",
   "metadata": {},
   "outputs": [
    {
     "data": {
      "text/plain": [
       "{2, 3, 4, 5}"
      ]
     },
     "execution_count": 43,
     "metadata": {},
     "output_type": "execute_result"
    }
   ],
   "source": [
    "s1"
   ]
  },
  {
   "cell_type": "markdown",
   "id": "68fb75aa-b09a-4cb0-91fe-4fd3f4b4bbb0",
   "metadata": {},
   "source": [
    "### Dictionary Type\n",
    "\n",
    "Dictionaries in Python are used to represent a collection of key-value pairs.\n",
    "\n",
    "Dictionaries are created by enclosing a sequence of key-value pairs in curly braces, separated by commas.\n",
    "\n",
    "Dictionaries can be accessed using the keys as indexes and can be modified using methods such as update(), pop(), etc. "
   ]
  },
  {
   "cell_type": "code",
   "execution_count": 2,
   "id": "879e4058-9f75-4547-9ec7-ff23b34a78d6",
   "metadata": {},
   "outputs": [],
   "source": [
    "d={}"
   ]
  },
  {
   "cell_type": "code",
   "execution_count": 3,
   "id": "e1e0ce9d-88e8-49dd-8017-6ef4e6cb6851",
   "metadata": {
    "tags": []
   },
   "outputs": [
    {
     "data": {
      "text/plain": [
       "dict"
      ]
     },
     "execution_count": 3,
     "metadata": {},
     "output_type": "execute_result"
    }
   ],
   "source": [
    "type(d)"
   ]
  },
  {
   "cell_type": "code",
   "execution_count": 4,
   "id": "fb4ecf48-d9c2-4dcc-b552-1f05d1b2d0fd",
   "metadata": {
    "tags": []
   },
   "outputs": [],
   "source": [
    "d1={\"key\":\"value\"}"
   ]
  },
  {
   "cell_type": "code",
   "execution_count": 5,
   "id": "1bb6de4c-f30f-4d94-a60c-812d5d57f6f4",
   "metadata": {},
   "outputs": [
    {
     "data": {
      "text/plain": [
       "{'key': 'value'}"
      ]
     },
     "execution_count": 5,
     "metadata": {},
     "output_type": "execute_result"
    }
   ],
   "source": [
    "d1"
   ]
  },
  {
   "cell_type": "code",
   "execution_count": 63,
   "id": "180a32d5-f193-4822-bebf-dc23bc20e647",
   "metadata": {},
   "outputs": [],
   "source": [
    "d2={\"name\":\"sudhanshu\",\"email\":\"sudh@gmail.com\",\"number\":345678}"
   ]
  },
  {
   "cell_type": "code",
   "execution_count": 7,
   "id": "f8b6856f-326f-4cdc-9a09-f957da2e4f69",
   "metadata": {},
   "outputs": [
    {
     "data": {
      "text/plain": [
       "{'name': 'sudhanshu', 'email': 'sudh@gmail.com', 'number': 345678}"
      ]
     },
     "execution_count": 7,
     "metadata": {},
     "output_type": "execute_result"
    }
   ],
   "source": [
    "d2"
   ]
  },
  {
   "cell_type": "code",
   "execution_count": 8,
   "id": "6f940310-65b6-4032-9c8f-fd90ddf23d21",
   "metadata": {},
   "outputs": [],
   "source": [
    "d3={234:\"sudh\",\"_wer\":4566,True:566}"
   ]
  },
  {
   "cell_type": "code",
   "execution_count": 9,
   "id": "d13bcd72-a13f-49e6-b8f2-127c401b457e",
   "metadata": {},
   "outputs": [
    {
     "data": {
      "text/plain": [
       "{234: 'sudh', '_wer': 4566, True: 566}"
      ]
     },
     "execution_count": 9,
     "metadata": {},
     "output_type": "execute_result"
    }
   ],
   "source": [
    "d3"
   ]
  },
  {
   "cell_type": "code",
   "execution_count": 10,
   "id": "6d6e7715-cabb-4b4a-a372-ed5c753d9b78",
   "metadata": {},
   "outputs": [
    {
     "data": {
      "text/plain": [
       "566"
      ]
     },
     "execution_count": 10,
     "metadata": {},
     "output_type": "execute_result"
    }
   ],
   "source": [
    "d3[True]"
   ]
  },
  {
   "cell_type": "code",
   "execution_count": 11,
   "id": "15dd0b46-cd6f-4c02-87e2-593895373152",
   "metadata": {},
   "outputs": [
    {
     "data": {
      "text/plain": [
       "566"
      ]
     },
     "execution_count": 11,
     "metadata": {},
     "output_type": "execute_result"
    }
   ],
   "source": [
    "d3[1]"
   ]
  },
  {
   "cell_type": "raw",
   "id": "b73551d9-7964-45b5-a331-57835d27f70b",
   "metadata": {},
   "source": [
    "d5={\"company\":\"pw\",\"numbaer\":78654,\"kite\":\"king\"}"
   ]
  },
  {
   "cell_type": "code",
   "execution_count": 12,
   "id": "4973f327-2833-49de-9a0c-ce811db333dd",
   "metadata": {},
   "outputs": [
    {
     "data": {
      "text/plain": [
       "566"
      ]
     },
     "execution_count": 12,
     "metadata": {},
     "output_type": "execute_result"
    }
   ],
   "source": [
    "d3[1]"
   ]
  },
  {
   "cell_type": "code",
   "execution_count": null,
   "id": "a10a6514-1a22-4e73-9e40-3359937607b0",
   "metadata": {},
   "outputs": [],
   "source": [
    "d5={ \"company\":\"pw\" ,\"numbaer\":78654, \"kite\":\"king\", \"course\":[\"data science\",\"web development\",\"java\"]}"
   ]
  },
  {
   "cell_type": "code",
   "execution_count": 8,
   "id": "8a833f1e-4568-4f62-b702-14cc3f3c2fb4",
   "metadata": {},
   "outputs": [],
   "source": [
    "d5={ \"company\":\"pw\" ,\"numbaer\":78654, \"kite\":\"king\", \"course\":[\"data science\",\"web development\",\"java\"]}"
   ]
  },
  {
   "cell_type": "code",
   "execution_count": 9,
   "id": "4523f699-69aa-4ad1-83c2-669ff71f3e7c",
   "metadata": {},
   "outputs": [
    {
     "data": {
      "text/plain": [
       "'java'"
      ]
     },
     "execution_count": 9,
     "metadata": {},
     "output_type": "execute_result"
    }
   ],
   "source": [
    "d5[\"course\"][2]"
   ]
  },
  {
   "cell_type": "code",
   "execution_count": 2,
   "id": "fc960bba-4709-4fbe-b2f2-b5c00f5457ce",
   "metadata": {},
   "outputs": [],
   "source": [
    "d6={\"number\":[1,2,3,456,78,9],\"assignment\":[1,2,3,4,5],\"launch_date\":[12,4,8],\"class time\":{\"web development\":8,\"java\":7,\"data science\":9}}"
   ]
  },
  {
   "cell_type": "code",
   "execution_count": 11,
   "id": "e45675e9-8c8a-4086-9a69-c74efff61467",
   "metadata": {},
   "outputs": [
    {
     "data": {
      "text/plain": [
       "9"
      ]
     },
     "execution_count": 11,
     "metadata": {},
     "output_type": "execute_result"
    }
   ],
   "source": [
    "d6[\"class time\"][\"data science\"]"
   ]
  },
  {
   "cell_type": "code",
   "execution_count": 3,
   "id": "941275f1-ce68-4021-9516-3b8b6c7ef403",
   "metadata": {},
   "outputs": [
    {
     "data": {
      "text/plain": [
       "{'number': [1, 2, 3, 456, 78, 9],\n",
       " 'assignment': [1, 2, 3, 4, 5],\n",
       " 'launch_date': [12, 4, 8],\n",
       " 'class time': {'web development': 8, 'java': 7, 'data science': 9}}"
      ]
     },
     "execution_count": 3,
     "metadata": {},
     "output_type": "execute_result"
    }
   ],
   "source": [
    "d6"
   ]
  },
  {
   "cell_type": "code",
   "execution_count": 5,
   "id": "b24e58f8-097c-49fe-a7d3-e1d2b9a970cb",
   "metadata": {},
   "outputs": [],
   "source": [
    "del d6[\"launch_date\"]"
   ]
  },
  {
   "cell_type": "code",
   "execution_count": 6,
   "id": "688825ad-2aec-4933-9bfb-4a1aa6565f53",
   "metadata": {},
   "outputs": [
    {
     "data": {
      "text/plain": [
       "{'number': [1, 2, 3, 456, 78, 9],\n",
       " 'assignment': [1, 2, 3, 4, 5],\n",
       " 'class time': {'web development': 8, 'java': 7, 'data science': 9}}"
      ]
     },
     "execution_count": 6,
     "metadata": {},
     "output_type": "execute_result"
    }
   ],
   "source": [
    "d6"
   ]
  },
  {
   "cell_type": "code",
   "execution_count": 7,
   "id": "bb35283b-0feb-40c9-bcfd-2118a8684998",
   "metadata": {},
   "outputs": [
    {
     "data": {
      "text/plain": [
       "['number', 'assignment', 'class time']"
      ]
     },
     "execution_count": 7,
     "metadata": {},
     "output_type": "execute_result"
    }
   ],
   "source": [
    "list(d6.keys())"
   ]
  },
  {
   "cell_type": "code",
   "execution_count": 9,
   "id": "5fc1e17a-0de0-4896-9d77-e4d4cdfd9b83",
   "metadata": {},
   "outputs": [
    {
     "data": {
      "text/plain": [
       "[[1, 2, 3, 456, 78, 9],\n",
       " [1, 2, 3, 4, 5],\n",
       " {'web development': 8, 'java': 7, 'data science': 9}]"
      ]
     },
     "execution_count": 9,
     "metadata": {},
     "output_type": "execute_result"
    }
   ],
   "source": [
    "list(d6.values())"
   ]
  },
  {
   "cell_type": "code",
   "execution_count": 10,
   "id": "63e707ea-b823-4782-a799-4be84fac4bbd",
   "metadata": {},
   "outputs": [
    {
     "data": {
      "text/plain": [
       "[('number', [1, 2, 3, 456, 78, 9]),\n",
       " ('assignment', [1, 2, 3, 4, 5]),\n",
       " ('class time', {'web development': 8, 'java': 7, 'data science': 9})]"
      ]
     },
     "execution_count": 10,
     "metadata": {},
     "output_type": "execute_result"
    }
   ],
   "source": [
    "list(d6.items())"
   ]
  },
  {
   "cell_type": "code",
   "execution_count": 11,
   "id": "8e87b010-ec92-4724-9348-f6d55583f3bc",
   "metadata": {},
   "outputs": [
    {
     "data": {
      "text/plain": [
       "[1, 2, 3, 456, 78, 9]"
      ]
     },
     "execution_count": 11,
     "metadata": {},
     "output_type": "execute_result"
    }
   ],
   "source": [
    "d6.pop(\"number\")"
   ]
  },
  {
   "cell_type": "code",
   "execution_count": 66,
   "id": "786f710c-8236-4838-be5a-0406c6f46ead",
   "metadata": {},
   "outputs": [
    {
     "data": {
      "text/plain": [
       "{'assignment': [1, 2, 3, 4, 5],\n",
       " 'class time': {'web development': 8, 'java': 7, 'data science': 9}}"
      ]
     },
     "execution_count": 66,
     "metadata": {},
     "output_type": "execute_result"
    }
   ],
   "source": [
    "d6"
   ]
  },
  {
   "cell_type": "markdown",
   "id": "fc3197d6-6302-4a89-af09-85a3132f0cf0",
   "metadata": {},
   "source": [
    "### If , Elif and Else\n",
    "if and elif statements are used in Python to perform conditional operations based on the value of a variable or expression. Here's how they work:\n",
    "\n",
    "The if statement is used to check whether a condition is true or false. If the condition is true, the code inside the if block is executed. If the condition is false, the code inside the if block is skipped.\n",
    "\n",
    "The elif statement is short for \"else if\" and is used to check additional conditions if the condition in the if statement is false. If the condition in the elif statement is true, the code inside the elif block is executed. If the condition is false, the code inside the elif block is skipped"
   ]
  },
  {
   "cell_type": "code",
   "execution_count": 26,
   "id": "a558fc05-07cf-4381-943a-ef10326fd3f2",
   "metadata": {},
   "outputs": [
    {
     "name": "stdin",
     "output_type": "stream",
     "text": [
      "enter your marks 40\n"
     ]
    },
    {
     "name": "stdout",
     "output_type": "stream",
     "text": [
      "can do much better\n"
     ]
    }
   ],
   "source": [
    "marks=int(input(\"enter your marks\"))\n",
    "if marks >=80:\n",
    "    print(\"A0 batch\")\n",
    "elif marks >=60 and marks <80:\n",
    "                print(\"A1 batch\")\n",
    "elif marks <50 :\n",
    "            print(\"can do much better\")\n",
    "else :\n",
    "                print(\"A2 batch\")\n",
    "    \n",
    "        "
   ]
  },
  {
   "cell_type": "code",
   "execution_count": 49,
   "id": "5783c002-d54d-414c-9110-7d99768302e5",
   "metadata": {},
   "outputs": [],
   "source": [
    "l=[1,2,3,4,5,6,7,8,9]"
   ]
  },
  {
   "cell_type": "code",
   "execution_count": 51,
   "id": "69404340-4c8c-4668-b91f-7f89bf294f01",
   "metadata": {},
   "outputs": [
    {
     "data": {
      "text/plain": [
       "3"
      ]
     },
     "execution_count": 51,
     "metadata": {},
     "output_type": "execute_result"
    }
   ],
   "source": [
    "#adding an index\n",
    "l[0]+2"
   ]
  },
  {
   "cell_type": "markdown",
   "id": "73e99a25-3dcb-4fad-8a66-67ac45a94dd0",
   "metadata": {},
   "source": [
    "### for loop\n",
    "In Python, a for loop is used to iterate over a sequence of items, such as a list or a string. Here's how it works:\n",
    "\n",
    "The for loop starts with the keyword for followed by a variable name, which will be used to store each item in the sequence as the loop runs.\n",
    "\n",
    "After the variable name, the keyword in is used to specify the sequence that the loop should iterate over.\n",
    "\n",
    "Finally, the code to be executed in each iteration of the loop is placed inside a block of code, which is indented."
   ]
  },
  {
   "cell_type": "code",
   "execution_count": 31,
   "id": "10572f65-2873-4048-8070-462c1eff9937",
   "metadata": {},
   "outputs": [
    {
     "name": "stdout",
     "output_type": "stream",
     "text": [
      "2\n",
      "3\n",
      "4\n",
      "5\n",
      "6\n",
      "7\n",
      "8\n",
      "9\n",
      "10\n"
     ]
    }
   ],
   "source": [
    "l1=[]\n",
    "for i in l:\n",
    "    l1.append(i+1)\n",
    "    print(i+1)\n"
   ]
  },
  {
   "cell_type": "code",
   "execution_count": 32,
   "id": "f7ed60f1-a482-4dd6-97f2-16616c040a3f",
   "metadata": {},
   "outputs": [
    {
     "data": {
      "text/plain": [
       "[1, 2, 3, 4, 5, 6, 7, 8, 9]"
      ]
     },
     "execution_count": 32,
     "metadata": {},
     "output_type": "execute_result"
    }
   ],
   "source": [
    "l"
   ]
  },
  {
   "cell_type": "code",
   "execution_count": 33,
   "id": "80c56736-7dfe-40af-aba8-343acbf9c407",
   "metadata": {},
   "outputs": [
    {
     "data": {
      "text/plain": [
       "[2, 3, 4, 5, 6, 7, 8, 9, 10]"
      ]
     },
     "execution_count": 33,
     "metadata": {},
     "output_type": "execute_result"
    }
   ],
   "source": [
    "l1"
   ]
  },
  {
   "cell_type": "code",
   "execution_count": 52,
   "id": "1bfb29cc-bd7f-49ee-af48-12a1d6e58d13",
   "metadata": {},
   "outputs": [],
   "source": [
    "l2=[\"sudh\",\"pwskills\",\"kumar\",\"course\"]"
   ]
  },
  {
   "cell_type": "code",
   "execution_count": 53,
   "id": "3aa65ccc-808d-45b9-87da-d73fffa8ec3f",
   "metadata": {},
   "outputs": [
    {
     "name": "stdout",
     "output_type": "stream",
     "text": [
      "sudh\n",
      "pwskills\n",
      "kumar\n",
      "course\n"
     ]
    }
   ],
   "source": [
    "l3=[]\n",
    "for i in l2:\n",
    "    print (i)\n",
    "    l3.append(i.upper())"
   ]
  },
  {
   "cell_type": "code",
   "execution_count": 54,
   "id": "58a37858-a346-4c1a-8529-cb0ec0bf9d64",
   "metadata": {},
   "outputs": [
    {
     "data": {
      "text/plain": [
       "['SUDH', 'PWSKILLS', 'KUMAR', 'COURSE']"
      ]
     },
     "execution_count": 54,
     "metadata": {},
     "output_type": "execute_result"
    }
   ],
   "source": [
    "l3"
   ]
  },
  {
   "cell_type": "code",
   "execution_count": 55,
   "id": "08c800c9-8048-4b27-a135-2110c34c4840",
   "metadata": {},
   "outputs": [
    {
     "name": "stdout",
     "output_type": "stream",
     "text": [
      "sudh\n",
      "pwskills\n",
      "kumar\n",
      "course\n"
     ]
    }
   ],
   "source": [
    "l4=[]\n",
    "for i in l2:\n",
    "    print(i)\n",
    "    l4.append(i.capitalize())"
   ]
  },
  {
   "cell_type": "code",
   "execution_count": 56,
   "id": "350bcfdd-d1cf-4915-98de-68a80c4bb942",
   "metadata": {},
   "outputs": [
    {
     "data": {
      "text/plain": [
       "['Sudh', 'Pwskills', 'Kumar', 'Course']"
      ]
     },
     "execution_count": 56,
     "metadata": {},
     "output_type": "execute_result"
    }
   ],
   "source": [
    "l4"
   ]
  },
  {
   "cell_type": "code",
   "execution_count": 38,
   "id": "b211d73a-a6de-4734-8eb0-30fe26a47f8e",
   "metadata": {},
   "outputs": [],
   "source": [
    "l5=[1,2,3,4,5,6.0,7.5,\"sudh\",\"kumar\"]"
   ]
  },
  {
   "cell_type": "code",
   "execution_count": 39,
   "id": "de75bddb-0edb-47b7-90eb-876dac21661a",
   "metadata": {},
   "outputs": [],
   "source": [
    "l6=[]\n",
    "l7=[]\n",
    "for i in l5:\n",
    "    if type(i)==int or type (i)==float:\n",
    "        l6.append(i)\n",
    "    else :\n",
    "        l7.append(i)\n",
    "    "
   ]
  },
  {
   "cell_type": "code",
   "execution_count": 40,
   "id": "ab0b34b6-5762-4413-9a5c-345ef7794268",
   "metadata": {},
   "outputs": [
    {
     "data": {
      "text/plain": [
       "[1, 2, 3, 4, 5, 6.0, 7.5]"
      ]
     },
     "execution_count": 40,
     "metadata": {},
     "output_type": "execute_result"
    }
   ],
   "source": [
    "l6"
   ]
  },
  {
   "cell_type": "code",
   "execution_count": 41,
   "id": "2d7ff36b-039f-4d39-8274-6270dff207d9",
   "metadata": {},
   "outputs": [
    {
     "data": {
      "text/plain": [
       "['sudh', 'kumar']"
      ]
     },
     "execution_count": 41,
     "metadata": {},
     "output_type": "execute_result"
    }
   ],
   "source": [
    "l7"
   ]
  },
  {
   "cell_type": "markdown",
   "id": "7f503cb1-570b-4665-bac4-b9021e9b3e4b",
   "metadata": {},
   "source": [
    "[ ]-list\n",
    "\n",
    "( )-tuple\n",
    "\n",
    "{ }-set\n",
    "\n",
    "{\"key\":\"value\"} -dict"
   ]
  },
  {
   "cell_type": "code",
   "execution_count": 50,
   "id": "aae43bae-bf57-439f-a332-6a1dfda0a4c6",
   "metadata": {},
   "outputs": [],
   "source": [
    "t=(True,4,4,5,6)"
   ]
  },
  {
   "cell_type": "code",
   "execution_count": 48,
   "id": "6d2d9497-f58f-4523-a05e-eb500231ed70",
   "metadata": {},
   "outputs": [
    {
     "data": {
      "text/plain": [
       "4"
      ]
     },
     "execution_count": 48,
     "metadata": {},
     "output_type": "execute_result"
    }
   ],
   "source": [
    "len(t)"
   ]
  },
  {
   "cell_type": "code",
   "execution_count": 51,
   "id": "3d2e7661-d378-48ef-970f-ee098ddba4d2",
   "metadata": {},
   "outputs": [
    {
     "data": {
      "text/plain": [
       "2"
      ]
     },
     "execution_count": 51,
     "metadata": {},
     "output_type": "execute_result"
    }
   ],
   "source": [
    "t.count(4)"
   ]
  },
  {
   "cell_type": "code",
   "execution_count": 52,
   "id": "46275eaf-54e4-4cbb-ab2d-4b0c61b1deab",
   "metadata": {},
   "outputs": [],
   "source": [
    "l=[1,2,4,5]"
   ]
  },
  {
   "cell_type": "code",
   "execution_count": 53,
   "id": "c7d57fa3-c340-44b9-a7fe-add2b7a15090",
   "metadata": {},
   "outputs": [],
   "source": [
    "l[2]=3"
   ]
  },
  {
   "cell_type": "code",
   "execution_count": 54,
   "id": "aa4b1034-99b9-4930-8c0a-8879ae71aded",
   "metadata": {},
   "outputs": [
    {
     "data": {
      "text/plain": [
       "[1, 2, 3, 5]"
      ]
     },
     "execution_count": 54,
     "metadata": {},
     "output_type": "execute_result"
    }
   ],
   "source": [
    "l"
   ]
  },
  {
   "cell_type": "code",
   "execution_count": 58,
   "id": "c1db0d63-c2b5-499e-a31a-c33eb1254210",
   "metadata": {},
   "outputs": [],
   "source": [
    "dict1={\"a\":\"akshat\",\"b\":\"bhuvan\",\"c\":\"chandan\"}"
   ]
  },
  {
   "cell_type": "code",
   "execution_count": 59,
   "id": "d43fda46-b404-409a-9a94-df8d8d120b47",
   "metadata": {},
   "outputs": [
    {
     "name": "stdout",
     "output_type": "stream",
     "text": [
      "keys: ['a', 'b', 'c']\n",
      "values: ['akshat', 'bhuvan', 'chandan']\n"
     ]
    }
   ],
   "source": [
    "#seperating keys nd values through for loop\n",
    "keys=[]\n",
    "values=[]\n",
    "for item in dict1.items():\n",
    "    keys.append(item[0]),values.append (item[1])\n",
    "print(\"keys:\",keys)\n",
    "print(\"values:\",values)"
   ]
  },
  {
   "cell_type": "code",
   "execution_count": 75,
   "id": "ef0404dc-3e64-47bd-ad52-f2e271bc5a52",
   "metadata": {},
   "outputs": [
    {
     "data": {
      "text/plain": [
       "{3: None, 5: None, False: None}"
      ]
     },
     "execution_count": 75,
     "metadata": {},
     "output_type": "execute_result"
    }
   ],
   "source": [
    "d2.fromkeys([3,5,values==5,5])"
   ]
  },
  {
   "cell_type": "code",
   "execution_count": 74,
   "id": "7471b2c1-f311-4b28-afce-cf646b520e44",
   "metadata": {},
   "outputs": [
    {
     "data": {
      "text/plain": [
       "{'name': 'sudhanshu', 'email': 'sudh@gmail.com', 'number': 345678}"
      ]
     },
     "execution_count": 74,
     "metadata": {},
     "output_type": "execute_result"
    }
   ],
   "source": [
    "d2"
   ]
  },
  {
   "cell_type": "code",
   "execution_count": 76,
   "id": "d938b7d5-ec11-4bcf-a278-70e0e1da2c0c",
   "metadata": {},
   "outputs": [],
   "source": [
    "l=[1,2,3,4,5,6.6,\"frings\"]"
   ]
  },
  {
   "cell_type": "code",
   "execution_count": 78,
   "id": "4290e946-c92b-484f-adfc-f68386207844",
   "metadata": {},
   "outputs": [
    {
     "name": "stdout",
     "output_type": "stream",
     "text": [
      "1 <class 'int'>\n",
      "2 <class 'int'>\n",
      "3 <class 'int'>\n",
      "4 <class 'int'>\n",
      "5 <class 'int'>\n",
      "6.6 <class 'float'>\n",
      "frings <class 'str'>\n",
      "if loop is able to complete itself then only thus will execute\n"
     ]
    }
   ],
   "source": [
    "for i in l:\n",
    "    print(i,type(i))\n",
    "else:\n",
    "    print(\"if loop is able to complete itself then only thus will execute\")"
   ]
  },
  {
   "cell_type": "code",
   "execution_count": 65,
   "id": "bd533053-bf35-469d-8fdf-46e00ab394a0",
   "metadata": {},
   "outputs": [],
   "source": [
    "l1=[\"pwskills\",\"krish\",\"sudh\"]"
   ]
  },
  {
   "cell_type": "code",
   "execution_count": 68,
   "id": "3df77d36-698d-4535-a883-675bca9082ff",
   "metadata": {},
   "outputs": [
    {
     "name": "stdout",
     "output_type": "stream",
     "text": [
      "pwskills\n",
      "sudh\n",
      "this is print\n"
     ]
    }
   ],
   "source": [
    "#continue and break\n",
    "for i in l1:\n",
    "    if i==\"krish\":\n",
    "        continue\n",
    "    print(i)\n",
    "else:\n",
    "    print(\"this is print\")"
   ]
  },
  {
   "cell_type": "code",
   "execution_count": 69,
   "id": "ad770c7c-66c3-45f8-ac2d-27b3f9a1faa5",
   "metadata": {},
   "outputs": [
    {
     "name": "stdout",
     "output_type": "stream",
     "text": [
      "pwskills\n"
     ]
    }
   ],
   "source": [
    "for i in l1:\n",
    "    if i==\"krish\":\n",
    "        break\n",
    "    print(i)\n",
    "else:\n",
    "    print(\"this is print\")"
   ]
  },
  {
   "cell_type": "markdown",
   "id": "fd8977d2-327a-4deb-8040-c1cd5208c646",
   "metadata": {},
   "source": [
    "### Range\n",
    "\n",
    "In Python, the range() function is a built-in function that generates a sequence of integers. It's commonly used with for loops to perform a set of instructions a specific number of times.\n",
    "\n",
    "The range() function takes one to three arguments, depending on the use case:\n",
    "\n",
    "range(stop): generates a sequence of integers from 0 up to (but not including) the specified stop value.\n",
    "range(start, stop): generates a sequence of integers from the start value up to (but not including) the stop value.\n",
    "range(start, stop, step): generates a sequence of integers from the start value up to (but not including) the stop value, incrementing by the step value."
   ]
  },
  {
   "cell_type": "code",
   "execution_count": 8,
   "id": "0cf4328d-0b2b-4e7a-8a28-27f6af9f8fec",
   "metadata": {},
   "outputs": [
    {
     "data": {
      "text/plain": [
       "range(0, 8)"
      ]
     },
     "execution_count": 8,
     "metadata": {},
     "output_type": "execute_result"
    }
   ],
   "source": [
    "range(8)"
   ]
  },
  {
   "cell_type": "code",
   "execution_count": 9,
   "id": "c7c8d7ec-0af0-408b-a8a1-5737ee065162",
   "metadata": {},
   "outputs": [
    {
     "data": {
      "text/plain": [
       "[0, 1, 2, 3, 4, 5, 6, 7]"
      ]
     },
     "execution_count": 9,
     "metadata": {},
     "output_type": "execute_result"
    }
   ],
   "source": [
    "list(range(8))"
   ]
  },
  {
   "cell_type": "code",
   "execution_count": 12,
   "id": "96ecbf95-037c-4a94-830a-094ab24f21ae",
   "metadata": {},
   "outputs": [],
   "source": [
    "l2=list(range(10,0,-1))"
   ]
  },
  {
   "cell_type": "code",
   "execution_count": 11,
   "id": "b916f656-b1bf-4e1b-90a4-09f8c0136e20",
   "metadata": {},
   "outputs": [
    {
     "data": {
      "text/plain": [
       "4"
      ]
     },
     "execution_count": 11,
     "metadata": {},
     "output_type": "execute_result"
    }
   ],
   "source": [
    "len (l1)"
   ]
  },
  {
   "cell_type": "code",
   "execution_count": 13,
   "id": "c2f5e9e9-3b76-4671-9d51-c797bb8adda8",
   "metadata": {},
   "outputs": [
    {
     "data": {
      "text/plain": [
       "[10, 9, 8, 7, 6, 5, 4, 3, 2, 1]"
      ]
     },
     "execution_count": 13,
     "metadata": {},
     "output_type": "execute_result"
    }
   ],
   "source": [
    "l2"
   ]
  },
  {
   "cell_type": "code",
   "execution_count": 14,
   "id": "d389b13a-008c-4fb1-aefa-238918f303f8",
   "metadata": {},
   "outputs": [],
   "source": [
    "l3=[\"sudh\",\"this\",\"is\",\"my\",\"notebook\"]"
   ]
  },
  {
   "cell_type": "code",
   "execution_count": 20,
   "id": "c8149c84-9206-4df9-9766-62e27e162399",
   "metadata": {},
   "outputs": [
    {
     "name": "stdout",
     "output_type": "stream",
     "text": [
      "notebook\n",
      "my\n",
      "is\n",
      "this\n",
      "sudh\n"
     ]
    }
   ],
   "source": [
    "for i in (range(len(l3)-1,-1,-1)):\n",
    "    print(l3[i])"
   ]
  },
  {
   "cell_type": "code",
   "execution_count": 21,
   "id": "13ba069e-3231-4792-be23-654938af8ea6",
   "metadata": {},
   "outputs": [
    {
     "data": {
      "text/plain": [
       "[0, 2, 4]"
      ]
     },
     "execution_count": 21,
     "metadata": {},
     "output_type": "execute_result"
    }
   ],
   "source": [
    "list(range(0,len(l3),2))"
   ]
  },
  {
   "cell_type": "code",
   "execution_count": 71,
   "id": "c343900d-e5f2-4e9b-8595-f15aaa74e80e",
   "metadata": {},
   "outputs": [],
   "source": [
    "l=[89,456,52,78,45]"
   ]
  },
  {
   "cell_type": "markdown",
   "id": "83f4e6f7-03c4-4152-9aa9-c488767d87ed",
   "metadata": {},
   "source": [
    "it is possible to sum a list"
   ]
  },
  {
   "cell_type": "code",
   "execution_count": 72,
   "id": "edfdc071-697e-4bd5-8347-5a4fb9f1c6af",
   "metadata": {},
   "outputs": [
    {
     "data": {
      "text/plain": [
       "720"
      ]
     },
     "execution_count": 72,
     "metadata": {},
     "output_type": "execute_result"
    }
   ],
   "source": [
    "sum (l)"
   ]
  },
  {
   "cell_type": "code",
   "execution_count": 73,
   "id": "bae82ac3-fb2a-444e-b4c3-102f9954b58d",
   "metadata": {},
   "outputs": [
    {
     "data": {
      "text/plain": [
       "720"
      ]
     },
     "execution_count": 73,
     "metadata": {},
     "output_type": "execute_result"
    }
   ],
   "source": [
    "#summing a list through for loop\n",
    "result=0\n",
    "for i in l:\n",
    "    result=result+i\n",
    "result"
   ]
  },
  {
   "cell_type": "code",
   "execution_count": 26,
   "id": "58b50424-9107-4228-bcaf-0c736aa300d6",
   "metadata": {},
   "outputs": [],
   "source": [
    "s1=\"pwskills\""
   ]
  },
  {
   "cell_type": "code",
   "execution_count": 27,
   "id": "f04d1e6d-36f9-4ffe-8789-f20837d64db4",
   "metadata": {},
   "outputs": [
    {
     "data": {
      "text/plain": [
       "'pwskills'"
      ]
     },
     "execution_count": 27,
     "metadata": {},
     "output_type": "execute_result"
    }
   ],
   "source": [
    "s1"
   ]
  },
  {
   "cell_type": "code",
   "execution_count": 28,
   "id": "1185d21e-72c3-449e-8f0f-b01a1bf1c265",
   "metadata": {},
   "outputs": [
    {
     "name": "stdout",
     "output_type": "stream",
     "text": [
      "p\n",
      "w\n",
      "s\n",
      "k\n",
      "i\n",
      "l\n",
      "l\n",
      "s\n"
     ]
    }
   ],
   "source": [
    "for i in s1:\n",
    "    print(i)"
   ]
  },
  {
   "cell_type": "code",
   "execution_count": 5,
   "id": "d5279b08-6858-40dd-84a9-19c1ee007349",
   "metadata": {},
   "outputs": [],
   "source": [
    "#THE NUMBER UPTILL SOME POINT"
   ]
  },
  {
   "cell_type": "code",
   "execution_count": 4,
   "id": "3a68f11e-d837-4c73-9af3-4d2dd382036b",
   "metadata": {},
   "outputs": [
    {
     "name": "stdout",
     "output_type": "stream",
     "text": [
      "1\n",
      "2\n",
      "3\n",
      "4\n",
      "5\n",
      "6\n",
      "7\n",
      "8\n",
      "9\n",
      "10\n"
     ]
    }
   ],
   "source": [
    "for i in range(0,10,1):\n",
    "    i=i+1\n",
    "    print (i)\n",
    "    "
   ]
  },
  {
   "cell_type": "code",
   "execution_count": 12,
   "id": "72f07dfb-d0db-467c-a6c8-8a5981e1b212",
   "metadata": {},
   "outputs": [
    {
     "name": "stdout",
     "output_type": "stream",
     "text": [
      "1\n",
      "2\n",
      "3\n",
      "4\n",
      "5\n",
      "6\n",
      "7\n",
      "8\n",
      "9\n",
      "10\n"
     ]
    }
   ],
   "source": [
    "n=0\n",
    "\n",
    "while n<10:\n",
    "    n=n+1\n",
    "    print(n)\n"
   ]
  },
  {
   "cell_type": "markdown",
   "id": "6a0aa612-9107-4163-98bb-34868a20c2e7",
   "metadata": {},
   "source": [
    "### While loop\n",
    "In Python, the while loop is a control flow statement that allows you to repeatedly execute a block of code as long as a specific condition is true.\n",
    "\n",
    "The while loop continues to execute the block of code until the condition becomes false."
   ]
  },
  {
   "cell_type": "code",
   "execution_count": 74,
   "id": "fdbc7fce-ca1c-4119-8e57-51ab818c4f03",
   "metadata": {},
   "outputs": [],
   "source": [
    "#summation using while loop"
   ]
  },
  {
   "cell_type": "code",
   "execution_count": 26,
   "id": "786aab45-6754-4275-9f5f-f635182e6595",
   "metadata": {},
   "outputs": [
    {
     "name": "stdin",
     "output_type": "stream",
     "text": [
      "enter your number  100\n"
     ]
    },
    {
     "data": {
      "text/plain": [
       "5050"
      ]
     },
     "execution_count": 26,
     "metadata": {},
     "output_type": "execute_result"
    }
   ],
   "source": [
    "n=int(input(\"enter your number \"))\n",
    "starting_point=0\n",
    "counter=1\n",
    "while counter<= n:\n",
    "    starting_point=starting_point+ counter \n",
    "    counter=counter+1\n",
    "starting_point"
   ]
  },
  {
   "cell_type": "code",
   "execution_count": 76,
   "id": "7185aab6-22ef-47f5-a203-a14fab483645",
   "metadata": {},
   "outputs": [
    {
     "name": "stdin",
     "output_type": "stream",
     "text": [
      "enter 10\n"
     ]
    },
    {
     "data": {
      "text/plain": [
       "3628800"
      ]
     },
     "execution_count": 76,
     "metadata": {},
     "output_type": "execute_result"
    }
   ],
   "source": [
    "num=int(input(\"enter\"))\n",
    "factorial=1\n",
    "while num > 0:\n",
    "    factorial=factorial*num\n",
    "    num=num-1\n",
    "factorial\n",
    "    "
   ]
  },
  {
   "cell_type": "markdown",
   "id": "9660777c-6b3d-47d0-9a2c-1091c5e3b1dc",
   "metadata": {},
   "source": [
    "### Fibonacci Sequence\n",
    "The Fibonacci sequence is a series of numbers in which each number is the sum of the two preceding numbers, starting from 0 and 1. The sequence goes like this:\n",
    "\n",
    "0, 1, 1, 2, 3, 5, 8, 13, 21, 34, 55, 89, 144, 233, 377, 610, 987, 1597, 2584, 4181, 6765, 10946, 17711, 28657, 46368, 75025, 121393, 196418, 317811, ...\n",
    "\n",
    "As you can see, each number in the sequence (starting from the third number) is the sum of the previous two numbers. For example, 2 is the sum of 1 and 1, 3 is the sum of 2 and 1, 5 is the sum of 3 and 2, and so on.\n",
    "\n"
   ]
  },
  {
   "cell_type": "code",
   "execution_count": 77,
   "id": "43861aea-257e-4492-8540-42b24c68e38d",
   "metadata": {},
   "outputs": [
    {
     "name": "stdin",
     "output_type": "stream",
     "text": [
      "enter the number of element you are looking for  12\n"
     ]
    },
    {
     "name": "stdout",
     "output_type": "stream",
     "text": [
      "0\n",
      "1\n",
      "1\n",
      "2\n",
      "3\n",
      "5\n",
      "8\n",
      "13\n",
      "21\n",
      "34\n",
      "55\n",
      "89\n"
     ]
    }
   ],
   "source": [
    "#fibonacci series through while loop\n",
    "number = int(input(\"enter the number of element you are looking for \"))\n",
    "a , b  = 0 , 1 \n",
    "counter = 0 \n",
    "while counter < number : \n",
    "    print(a)\n",
    "    c = a+ b\n",
    "    a = b \n",
    "    b = c \n",
    "    counter= counter+ 1\n",
    "    \n",
    "    "
   ]
  },
  {
   "cell_type": "code",
   "execution_count": 78,
   "id": "449c8265-79f5-4e4c-b7ef-87499d4a545b",
   "metadata": {},
   "outputs": [
    {
     "name": "stdout",
     "output_type": "stream",
     "text": [
      "0\n",
      "1\n",
      "1\n",
      "2\n",
      "3\n",
      "5\n",
      "8\n",
      "13\n",
      "21\n",
      "34\n",
      "55\n",
      "89\n"
     ]
    }
   ],
   "source": [
    "#fibonacci series through for loop\n",
    "a,b=0,1\n",
    "\n",
    "for i in range(12):\n",
    "    print(a)\n",
    "    \n",
    "    c=a+b\n",
    "    a=b\n",
    "    b=c"
   ]
  },
  {
   "cell_type": "code",
   "execution_count": 47,
   "id": "e71f8b96-5f8f-4877-8833-55050009c32b",
   "metadata": {},
   "outputs": [],
   "source": [
    "s=\"sudh\"\n"
   ]
  },
  {
   "cell_type": "code",
   "execution_count": 48,
   "id": "1eea8291-aa1a-4f35-8d52-0e7f9defb7c5",
   "metadata": {},
   "outputs": [
    {
     "data": {
      "text/plain": [
       "'hdus'"
      ]
     },
     "execution_count": 48,
     "metadata": {},
     "output_type": "execute_result"
    }
   ],
   "source": [
    "s[::-1]"
   ]
  },
  {
   "cell_type": "code",
   "execution_count": 50,
   "id": "59cd552d-c313-4a1a-b5dd-4aef9a0a0d5d",
   "metadata": {},
   "outputs": [
    {
     "data": {
      "text/plain": [
       "4"
      ]
     },
     "execution_count": 50,
     "metadata": {},
     "output_type": "execute_result"
    }
   ],
   "source": [
    "len (s)"
   ]
  },
  {
   "cell_type": "code",
   "execution_count": 82,
   "id": "f32d793b-c13f-4fa1-a434-e7ae7b89556f",
   "metadata": {},
   "outputs": [
    {
     "name": "stdin",
     "output_type": "stream",
     "text": [
      "enter your str for reversal:  string \n"
     ]
    },
    {
     "name": "stdout",
     "output_type": "stream",
     "text": [
      " gnirts\n"
     ]
    }
   ],
   "source": [
    "#reversing a string\n",
    "word=input(\"enter your str for reversal: \")\n",
    "\n",
    "reverse=\"\"\n",
    "length=len (word)\n",
    "while length>0:\n",
    "    reverse=reverse+word[length-1]\n",
    "    length=length-1\n",
    "print(reverse)\n",
    "    \n",
    "    "
   ]
  },
  {
   "cell_type": "code",
   "execution_count": null,
   "id": "4d005f88-399b-487e-9ab1-7bebb2a7fdeb",
   "metadata": {},
   "outputs": [
    {
     "name": "stdin",
     "output_type": "stream",
     "text": [
      "ente the number  20\n"
     ]
    },
    {
     "name": "stdout",
     "output_type": "stream",
     "text": [
      "20 * 1 = 20\n",
      "20 * 2 = 40\n",
      "20 * 3 = 60\n",
      "20 * 4 = 80\n",
      "20 * 5 = 100\n",
      "20 * 6 = 120\n",
      "20 * 7 = 140\n",
      "20 * 8 = 160\n",
      "20 * 9 = 180\n",
      "20 * 10 = 200\n",
      "20 * 11 = 220\n",
      "20 * 12 = 240\n",
      "20 * 13 = 260\n",
      "20 * 14 = 280\n",
      "20 * 15 = 300\n",
      "20 * 16 = 320\n",
      "20 * 17 = 340\n",
      "20 * 18 = 360\n",
      "20 * 19 = 380\n",
      "20 * 20 = 400\n"
     ]
    }
   ],
   "source": [
    "#tables\n",
    "n=int(input(\"ente the number \"))\n",
    "i=1\n",
    "while i<=20:\n",
    "    result=n*i\n",
    "\n",
    "    print(n,\"*\",i ,\"=\", result)\n",
    "    i=i+1"
   ]
  },
  {
   "cell_type": "code",
   "execution_count": 59,
   "id": "249b092a-5dd7-4a16-b297-610e597f0a8c",
   "metadata": {},
   "outputs": [
    {
     "name": "stdout",
     "output_type": "stream",
     "text": [
      "64\n",
      "81\n",
      "49\n",
      "16\n"
     ]
    }
   ],
   "source": [
    "#finding squares\n",
    "l=[8,9,7,4]\n",
    "l1=[]\n",
    "for i in l:\n",
    "    print (i**2)\n",
    "    l1.append(i**2)"
   ]
  },
  {
   "cell_type": "markdown",
   "id": "f7a43a0c-b8d8-4056-8935-2bac75a6f46d",
   "metadata": {},
   "source": [
    "### Comprehension\n",
    "\n",
    "Python offers a concise and expressive way of creating lists, dictionaries, and sets called \"comprehensions\".\n",
    "Comprehensions allow you to create a new container object by performing some operations on an existing container object, such as a list or a dictionary, in a single line of code.\n",
    "\n",
    "There are three types of comprehensions in Python: list comprehension, dictionary comprehension, and set comprehension.\n"
   ]
  },
  {
   "cell_type": "markdown",
   "id": "057e28cd-8252-4436-804d-ea0d38cabe65",
   "metadata": {},
   "source": [
    "### List comprehension:\n",
    "\n",
    "List comprehension is used to create a new list by applying an expression to each item in an existing list or other iterable."
   ]
  },
  {
   "cell_type": "code",
   "execution_count": 83,
   "id": "57bfcdb3-8be5-492b-a9be-b1af301c6a7d",
   "metadata": {},
   "outputs": [
    {
     "name": "stdout",
     "output_type": "stream",
     "text": [
      "[1, 4, 9, 16, 25, 36, 49, 64, 81, 100]\n"
     ]
    }
   ],
   "source": [
    "squares = [x*x for x in range(1, 11)]\n",
    "print(squares)"
   ]
  },
  {
   "cell_type": "markdown",
   "id": "3f61aa64-bdc2-4d18-a052-8706c3964eda",
   "metadata": {},
   "source": [
    "### Dictionary comprehension:\n",
    "\n",
    "Dictionary comprehension is used to create a new dictionary by applying an expression to each item in an existing iterable."
   ]
  },
  {
   "cell_type": "code",
   "execution_count": 84,
   "id": "0b6ec6a8-d98b-43cc-aa1f-6a6d4176b187",
   "metadata": {},
   "outputs": [
    {
     "name": "stdout",
     "output_type": "stream",
     "text": [
      "{1: 1, 2: 4, 3: 9, 4: 16, 5: 25, 6: 36, 7: 49, 8: 64, 9: 81, 10: 100}\n"
     ]
    }
   ],
   "source": [
    "square_dict = {x: x*x for x in range(1, 11)}\n",
    "print(square_dict)\n"
   ]
  },
  {
   "cell_type": "markdown",
   "id": "4c760fd6-d541-4c67-8004-bd800e628f09",
   "metadata": {},
   "source": [
    "### Set comprehension:\n",
    "Set comprehension is used to create a new set by applying an expression to each item in an existing iterable."
   ]
  },
  {
   "cell_type": "code",
   "execution_count": 1,
   "id": "ed12fc52-26be-4d15-b7d5-b2dd9f5ce7f5",
   "metadata": {},
   "outputs": [
    {
     "name": "stdout",
     "output_type": "stream",
     "text": [
      "{1, 3, 5, 7, 9, 11, 13, 15, 17, 19}\n"
     ]
    }
   ],
   "source": [
    "odd_set = {x for x in range(1, 21) if x % 2 != 0}\n",
    "print(odd_set)\n"
   ]
  },
  {
   "cell_type": "markdown",
   "id": "48cb7800-945f-4f22-a612-181553760d79",
   "metadata": {},
   "source": [
    "More Examples Below:"
   ]
  },
  {
   "cell_type": "code",
   "execution_count": 60,
   "id": "6412ecda-11b7-4b9b-8df2-0993ec5eac03",
   "metadata": {},
   "outputs": [
    {
     "data": {
      "text/plain": [
       "[8, 4]"
      ]
     },
     "execution_count": 60,
     "metadata": {},
     "output_type": "execute_result"
    }
   ],
   "source": [
    "[i for i in l if i % 2 == 0]"
   ]
  },
  {
   "cell_type": "code",
   "execution_count": 65,
   "id": "45291f79-d70d-404b-a155-5ed50cbd292d",
   "metadata": {},
   "outputs": [
    {
     "data": {
      "text/plain": [
       "[9, 7]"
      ]
     },
     "execution_count": 65,
     "metadata": {},
     "output_type": "execute_result"
    }
   ],
   "source": [
    "[i for i in l if i % 2 !=0]"
   ]
  },
  {
   "cell_type": "code",
   "execution_count": 66,
   "id": "a1f8c494-55c3-4bc1-80c0-542cff22ec3f",
   "metadata": {},
   "outputs": [],
   "source": [
    "l2=[\"sudh\",\"pwskills\"]"
   ]
  },
  {
   "cell_type": "code",
   "execution_count": 68,
   "id": "c5f32305-c240-416d-a14e-f8433eedd7fd",
   "metadata": {},
   "outputs": [
    {
     "data": {
      "text/plain": [
       "['SUDH', 'PWSKILLS']"
      ]
     },
     "execution_count": 68,
     "metadata": {},
     "output_type": "execute_result"
    }
   ],
   "source": [
    "[i.upper() for i in l2]"
   ]
  },
  {
   "cell_type": "code",
   "execution_count": 69,
   "id": "9aec827e-2295-4c43-8804-3193afdbea40",
   "metadata": {},
   "outputs": [
    {
     "data": {
      "text/plain": [
       "[64, 81, 49, 16]"
      ]
     },
     "execution_count": 69,
     "metadata": {},
     "output_type": "execute_result"
    }
   ],
   "source": [
    "list(i**2  for i in l)"
   ]
  },
  {
   "cell_type": "code",
   "execution_count": 72,
   "id": "96409fa4-db3a-43cd-9292-1f5e2a7c2ede",
   "metadata": {},
   "outputs": [
    {
     "data": {
      "text/plain": [
       "{'key': 529, 'value': 3136}"
      ]
     },
     "execution_count": 72,
     "metadata": {},
     "output_type": "execute_result"
    }
   ],
   "source": [
    "d={\"key\":23,\"value\":56}\n",
    "{k:v**2 for k,v in d.items()}"
   ]
  },
  {
   "cell_type": "code",
   "execution_count": 73,
   "id": "b9d3cff0-4441-4db7-b8a7-81e681965952",
   "metadata": {},
   "outputs": [
    {
     "data": {
      "text/plain": [
       "dict_items([('key', 23), ('value', 56)])"
      ]
     },
     "execution_count": 73,
     "metadata": {},
     "output_type": "execute_result"
    }
   ],
   "source": [
    "d.items()"
   ]
  },
  {
   "cell_type": "code",
   "execution_count": 75,
   "id": "bab709d8-9904-49f5-a5b6-8442e32c7cff",
   "metadata": {},
   "outputs": [
    {
     "data": {
      "text/plain": [
       "dict_keys(['key', 'value'])"
      ]
     },
     "execution_count": 75,
     "metadata": {},
     "output_type": "execute_result"
    }
   ],
   "source": [
    "d.keys()"
   ]
  }
 ],
 "metadata": {
  "kernelspec": {
   "display_name": "Python 3 (ipykernel)",
   "language": "python",
   "name": "python3"
  },
  "language_info": {
   "codemirror_mode": {
    "name": "ipython",
    "version": 3
   },
   "file_extension": ".py",
   "mimetype": "text/x-python",
   "name": "python",
   "nbconvert_exporter": "python",
   "pygments_lexer": "ipython3",
   "version": "3.10.8"
  },
  "toc-autonumbering": false,
  "toc-showcode": false,
  "toc-showmarkdowntxt": false,
  "toc-showtags": false
 },
 "nbformat": 4,
 "nbformat_minor": 5
}
