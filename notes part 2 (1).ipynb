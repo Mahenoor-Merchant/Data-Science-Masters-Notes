{
 "cells": [
  {
   "cell_type": "markdown",
   "id": "f3666bc4-4646-4187-8a46-2c515588aaa1",
   "metadata": {},
   "source": [
    "### FUNCTIONS\n",
    "GENERATOR FUNCTION\n",
    "Functions in Python are reusable blocks of code that perform a specific task. Defining a function allows you to separate your code into smaller, more manageable pieces, making it easier to read, test, and maintain. Here's an overview of how to define and use functions in Python:\n",
    "\n",
    "Defining a function:\n",
    "To define a function in Python, use the def keyword, followed by the name of the function, and the parameters enclosed in parentheses. The body of the function is indented and contains the code that performs the task.\n",
    "\n",
    "Calling a function:\n",
    "To call a function, simply use its name followed by parentheses, and provide the arguments as required by the function definition.\n",
    "\n",
    "Returning a value:\n",
    "A function can return a value to the caller using the return keyword. If a function doesn't have a return statement, it will return None by default."
   ]
  },
  {
   "cell_type": "code",
   "execution_count": 1,
   "id": "3d26de41-febf-41a4-a4bf-85afd25338d4",
   "metadata": {},
   "outputs": [],
   "source": [
    "def add_numbers(a,b):\n",
    "    sum=a+b\n",
    "    return sum"
   ]
  },
  {
   "cell_type": "code",
   "execution_count": 2,
   "id": "3bc4b9f4-a883-47c8-95f4-6fc35a002ebe",
   "metadata": {},
   "outputs": [
    {
     "data": {
      "text/plain": [
       "77"
      ]
     },
     "execution_count": 2,
     "metadata": {},
     "output_type": "execute_result"
    }
   ],
   "source": [
    "add_numbers(56,21)"
   ]
  },
  {
   "cell_type": "markdown",
   "id": "4e2fa18d-16b0-49d0-bb72-4ea320fbb734",
   "metadata": {},
   "source": [
    "Creating a function for fibonacci series using for loop"
   ]
  },
  {
   "cell_type": "code",
   "execution_count": 18,
   "id": "5913230a-3ad4-4458-b198-bbed423a1689",
   "metadata": {},
   "outputs": [],
   "source": [
    "def fib(n):\n",
    "    a,b=0,1\n",
    "    for i in range (n):\n",
    "        yield a\n",
    "        a,b=b,a+b\n"
   ]
  },
  {
   "cell_type": "code",
   "execution_count": 16,
   "id": "0ef8ba99-eb9c-45f6-8027-eac90c003c58",
   "metadata": {},
   "outputs": [
    {
     "name": "stdout",
     "output_type": "stream",
     "text": [
      "0\n",
      "1\n",
      "1\n",
      "2\n",
      "3\n",
      "5\n",
      "8\n",
      "13\n",
      "21\n",
      "34\n"
     ]
    }
   ],
   "source": [
    "fib_sequence =fib(10)\n",
    "for term in fibonacci_sequence:\n",
    "    print(term)"
   ]
  },
  {
   "cell_type": "markdown",
   "id": "732772a5-4660-46bc-8781-86692f50ea0a",
   "metadata": {},
   "source": [
    "Creating a function for fibonacci series using while loop"
   ]
  },
  {
   "cell_type": "code",
   "execution_count": 21,
   "id": "6216af26-7ca0-4b92-8c7f-c0c38ffe30f6",
   "metadata": {},
   "outputs": [],
   "source": [
    "def fibonacci_series():\n",
    "    a,b=0,1\n",
    "    while True:\n",
    "        yield (a)\n",
    "        a,b=b,a+b"
   ]
  },
  {
   "cell_type": "code",
   "execution_count": 23,
   "id": "2e262203-fb74-4499-911b-37fa1f1ed7cb",
   "metadata": {},
   "outputs": [],
   "source": [
    "series=fibonacci_series()"
   ]
  },
  {
   "cell_type": "code",
   "execution_count": 25,
   "id": "7cb125b2-b92d-4cb0-9263-f256dcb6128e",
   "metadata": {},
   "outputs": [
    {
     "name": "stdout",
     "output_type": "stream",
     "text": [
      "0\n",
      "1\n",
      "1\n",
      "2\n",
      "3\n",
      "5\n",
      "8\n",
      "13\n",
      "21\n",
      "34\n"
     ]
    }
   ],
   "source": [
    "for i in range(10):\n",
    "    print(next(series))"
   ]
  },
  {
   "cell_type": "markdown",
   "id": "b3528aa7-4ac8-4c8b-969f-b0b48b2bda56",
   "metadata": {},
   "source": [
    "### The concepts of iterator, iter(), and iterable in Python:\n",
    "\n",
    "An iterable is any object that can return an iterator.\n",
    "\n",
    "An iterator is an object that can be used to loop over the items in a sequence.\n",
    "\n",
    "The iter() function is used to create an iterator from an iterable.\n",
    "\n",
    "To get the next item in the sequence, you can call the __next__() method on the iterator object."
   ]
  },
  {
   "cell_type": "code",
   "execution_count": 33,
   "id": "f2ac7e06-e822-4616-85b0-ef009d77d4bc",
   "metadata": {},
   "outputs": [],
   "source": [
    "s=\"skills\"\n",
    "s1=iter(s)"
   ]
  },
  {
   "cell_type": "code",
   "execution_count": 34,
   "id": "09d3e823-029f-45a0-894d-1dbfc4008ffc",
   "metadata": {},
   "outputs": [
    {
     "data": {
      "text/plain": [
       "'s'"
      ]
     },
     "execution_count": 34,
     "metadata": {},
     "output_type": "execute_result"
    }
   ],
   "source": [
    "next(s1)"
   ]
  },
  {
   "cell_type": "code",
   "execution_count": 35,
   "id": "d5866989-6b54-4a3c-a800-e70e0c5e3045",
   "metadata": {},
   "outputs": [
    {
     "data": {
      "text/plain": [
       "'k'"
      ]
     },
     "execution_count": 35,
     "metadata": {},
     "output_type": "execute_result"
    }
   ],
   "source": [
    "next(s1)"
   ]
  },
  {
   "cell_type": "code",
   "execution_count": 36,
   "id": "9e1c5677-9a07-42ed-9575-b875490d7436",
   "metadata": {},
   "outputs": [
    {
     "data": {
      "text/plain": [
       "'i'"
      ]
     },
     "execution_count": 36,
     "metadata": {},
     "output_type": "execute_result"
    }
   ],
   "source": [
    "next(s1)"
   ]
  },
  {
   "cell_type": "code",
   "execution_count": 37,
   "id": "5b52839b-de4a-404c-b084-5a91b16435cd",
   "metadata": {},
   "outputs": [
    {
     "data": {
      "text/plain": [
       "'l'"
      ]
     },
     "execution_count": 37,
     "metadata": {},
     "output_type": "execute_result"
    }
   ],
   "source": [
    "next(s1)"
   ]
  },
  {
   "cell_type": "code",
   "execution_count": 38,
   "id": "11c50159-601a-4307-910f-eb14573b5828",
   "metadata": {},
   "outputs": [
    {
     "data": {
      "text/plain": [
       "'l'"
      ]
     },
     "execution_count": 38,
     "metadata": {},
     "output_type": "execute_result"
    }
   ],
   "source": [
    "next(s1)"
   ]
  },
  {
   "cell_type": "code",
   "execution_count": 39,
   "id": "7bf1a4be-6450-4423-93f5-b0ef375e5c3a",
   "metadata": {},
   "outputs": [
    {
     "data": {
      "text/plain": [
       "'s'"
      ]
     },
     "execution_count": 39,
     "metadata": {},
     "output_type": "execute_result"
    }
   ],
   "source": [
    "next(s1)"
   ]
  },
  {
   "cell_type": "markdown",
   "id": "1a4f8cf6-f6a1-483c-847c-8b4b39386a21",
   "metadata": {},
   "source": [
    "### LAMBDA FUNCTION\n",
    "\n",
    "A lambda function is a small anonymous function that can have any number of arguments but only one expression.\n",
    "\n",
    "Lambda functions are useful for writing short, concise code and can be used wherever function objects are required.\n",
    "\n",
    "The syntax for creating a lambda function is lambda arguments: expression, where arguments is a comma-separated list of function arguments and expression is a single expression that is evaluated and returned.\n",
    "\n",
    "Lambda functions are often used in conjunction with higher-order functions such as map(), filter(), and reduce().\n",
    "\n",
    "Lambda functions are typically used for simple operations that can be expressed in a single expression, such as arithmetic or boolean operations."
   ]
  },
  {
   "cell_type": "code",
   "execution_count": 44,
   "id": "c006f9a4-c194-476e-a743-548e9a879222",
   "metadata": {},
   "outputs": [],
   "source": [
    "a=lambda c,v: c+v\n"
   ]
  },
  {
   "cell_type": "code",
   "execution_count": 45,
   "id": "06761346-59a5-41fb-ae61-55841b941d8b",
   "metadata": {},
   "outputs": [
    {
     "data": {
      "text/plain": [
       "55"
      ]
     },
     "execution_count": 45,
     "metadata": {},
     "output_type": "execute_result"
    }
   ],
   "source": [
    "a(10,45)"
   ]
  },
  {
   "cell_type": "code",
   "execution_count": 46,
   "id": "9d1df282-2810-4c7a-9345-777dd161bf4b",
   "metadata": {},
   "outputs": [],
   "source": [
    "finding_max=lambda x,y : x if x>y else y"
   ]
  },
  {
   "cell_type": "code",
   "execution_count": 47,
   "id": "4ab7d000-a991-496f-abcf-d9550b6bc283",
   "metadata": {},
   "outputs": [
    {
     "data": {
      "text/plain": [
       "52"
      ]
     },
     "execution_count": 47,
     "metadata": {},
     "output_type": "execute_result"
    }
   ],
   "source": [
    "finding_max(42,52)"
   ]
  },
  {
   "cell_type": "code",
   "execution_count": 1,
   "id": "f3b3cd18-4e7e-4032-b463-3c31b8ee5528",
   "metadata": {},
   "outputs": [],
   "source": [
    "l=[2,3,4,5,6,7,8,9]"
   ]
  },
  {
   "cell_type": "code",
   "execution_count": 2,
   "id": "566aa10b-88e8-4def-92ee-734b117211af",
   "metadata": {},
   "outputs": [
    {
     "data": {
      "text/plain": [
       "[4, 9, 16, 25, 36, 49, 64, 81]"
      ]
     },
     "execution_count": 2,
     "metadata": {},
     "output_type": "execute_result"
    }
   ],
   "source": [
    "#squaring a list\n",
    "list(map(lambda x : x**2,l))"
   ]
  },
  {
   "cell_type": "code",
   "execution_count": 3,
   "id": "7a856605-946f-4af7-b39a-ab88b6d50b1a",
   "metadata": {},
   "outputs": [
    {
     "data": {
      "text/plain": [
       "[8, 27, 64, 125, 216, 343, 512, 729]"
      ]
     },
     "execution_count": 3,
     "metadata": {},
     "output_type": "execute_result"
    }
   ],
   "source": [
    "#cubing a list\n",
    "list(map(lambda x : x**3 ,l))"
   ]
  },
  {
   "cell_type": "code",
   "execution_count": 4,
   "id": "592467e2-7f88-4f64-a909-ee1b59ddbcb9",
   "metadata": {},
   "outputs": [],
   "source": [
    "from functools import reduce "
   ]
  },
  {
   "cell_type": "code",
   "execution_count": 5,
   "id": "26a6a0e2-79e8-4df0-9bc9-f2247f2dff81",
   "metadata": {},
   "outputs": [
    {
     "name": "stdout",
     "output_type": "stream",
     "text": [
      "362880\n"
     ]
    }
   ],
   "source": [
    "#finding products \n",
    "product=(reduce (lambda x, y : x*y ,l))\n",
    "print(product)\n"
   ]
  },
  {
   "cell_type": "code",
   "execution_count": 9,
   "id": "7f2a6313-8ec0-4d7d-8016-52cb30206bad",
   "metadata": {},
   "outputs": [
    {
     "name": "stdout",
     "output_type": "stream",
     "text": [
      "44\n"
     ]
    }
   ],
   "source": [
    "# finding sum\n",
    "sum=reduce(lambda x , y : x + y,l)\n",
    "print(sum)"
   ]
  },
  {
   "cell_type": "code",
   "execution_count": 10,
   "id": "a331a79f-83fc-46dd-a1a1-72848c939d99",
   "metadata": {},
   "outputs": [],
   "source": [
    "l1=[8,9,10,11,12,13,45,100]"
   ]
  },
  {
   "cell_type": "code",
   "execution_count": 12,
   "id": "ed1a9eaf-5987-47d1-b3b0-ffbbae3fc015",
   "metadata": {},
   "outputs": [
    {
     "data": {
      "text/plain": [
       "[8, 10, 12, 100]"
      ]
     },
     "execution_count": 12,
     "metadata": {},
     "output_type": "execute_result"
    }
   ],
   "source": [
    "#filtering even numbers\n",
    "list(filter(lambda x :x%2==0 ,l1))"
   ]
  },
  {
   "cell_type": "code",
   "execution_count": 13,
   "id": "28520647-f478-4282-9433-dda4596b7ba4",
   "metadata": {},
   "outputs": [
    {
     "data": {
      "text/plain": [
       "[9, 11, 13, 45]"
      ]
     },
     "execution_count": 13,
     "metadata": {},
     "output_type": "execute_result"
    }
   ],
   "source": [
    "#filtering odd numbers \n",
    "list(filter(lambda x : x%2 !=0,l1))"
   ]
  },
  {
   "cell_type": "markdown",
   "id": "209cbb7b-7c85-43c4-893d-3c6140e1c7e2",
   "metadata": {},
   "source": [
    "### Class and Objects in python\n",
    "A class is a blueprint for creating objects that defines a set of attributes and methods that the objects will have.\n",
    "\n",
    "An object is an instance of a class that has its own set of attributes and methods.\n",
    "\n",
    "To create a class in Python, use the class keyword followed by the class name and a colon, followed by the class body.\n",
    "\n",
    "Class attributes are shared by all instances of the class, while instance attributes are unique to each instance.\n",
    "\n",
    "Class structures codes and makes it reusable '"
   ]
  },
  {
   "cell_type": "code",
   "execution_count": 16,
   "id": "1205ff84-a61c-48b9-946c-ede8a91237ee",
   "metadata": {},
   "outputs": [],
   "source": [
    "class pwskills:\n",
    "    def __init__(self,name,email,phone_number):\n",
    "        self.name=name\n",
    "        self.email=email\n",
    "        self.phone_number=phone_number\n",
    "        \n",
    "    def student_details(self):\n",
    "        print (self.name,self.email,self.phone_number)"
   ]
  },
  {
   "cell_type": "code",
   "execution_count": 17,
   "id": "74d4003d-d437-4b62-a314-67e42bc6fe2c",
   "metadata": {},
   "outputs": [],
   "source": [
    "pw=pwskills(\"rohan\",\"rohan@gmail.com\",7539126480)"
   ]
  },
  {
   "cell_type": "code",
   "execution_count": 18,
   "id": "ac8dd5b4-0fac-4759-85a8-f9c2da98ad6b",
   "metadata": {},
   "outputs": [
    {
     "name": "stdout",
     "output_type": "stream",
     "text": [
      "rohan rohan@gmail.com 7539126480\n"
     ]
    }
   ],
   "source": [
    "pw.student_details()"
   ]
  },
  {
   "cell_type": "markdown",
   "id": "c0ae1f7b-6270-4429-ac8e-8f32715cbb12",
   "metadata": {},
   "source": [
    "### Class Method\n",
    "A class method is a method that is bound to the class and not the instance of the class. It can be called on both the class and the instance of the class.\n",
    "To define a class method in Python, use the @classmethod decorator before the method definition.\n",
    "The first argument of a class method is typically named cls and refers to the class itself, rather than the instance of the class.\n",
    "Class methods can be used to create alternative constructors for the class, perform some class-level operations, or modify the class attributes."
   ]
  },
  {
   "cell_type": "code",
   "execution_count": 29,
   "id": "8df0b94f-8e7f-4f3f-8da7-c0c1af5aa2ca",
   "metadata": {},
   "outputs": [],
   "source": [
    "class pwskills:\n",
    "    contact_number=7410852963\n",
    "    def __init__(self,name,email):\n",
    "        self.name=name\n",
    "        self.email=email\n",
    "        \n",
    "    @classmethod\n",
    "    def details(cls,name,email):\n",
    "        return cls(name,email)\n",
    "    \n",
    "    @classmethod\n",
    "    def change_contact_number(cls,number):\n",
    "        pwskills.contact_number=number\n",
    "        \n",
    "    def student_details(self):\n",
    "        print(self.name,self.email,pwskills.contact_number)    \n",
    "        "
   ]
  },
  {
   "cell_type": "code",
   "execution_count": 30,
   "id": "9426d497-f8a3-42d0-b88c-e22d4240ed9c",
   "metadata": {},
   "outputs": [],
   "source": [
    "Rohan=pwskills(\"ROHAN\",\"rohan12@gmail.com\")"
   ]
  },
  {
   "cell_type": "code",
   "execution_count": 31,
   "id": "6d68a6ae-15b1-48e6-9383-52fa2b698a09",
   "metadata": {},
   "outputs": [
    {
     "name": "stdout",
     "output_type": "stream",
     "text": [
      "ROHAN rohan12@gmail.com 7410852963\n"
     ]
    }
   ],
   "source": [
    "Rohan.student_details()"
   ]
  },
  {
   "cell_type": "code",
   "execution_count": 32,
   "id": "5fee271c-5a18-4180-9508-a7a5c9187cb6",
   "metadata": {},
   "outputs": [],
   "source": [
    "Rohan.change_contact_number(9876543210)"
   ]
  },
  {
   "cell_type": "code",
   "execution_count": 33,
   "id": "bcdb935d-6f32-4d90-a036-7f02c4e72eec",
   "metadata": {},
   "outputs": [
    {
     "name": "stdout",
     "output_type": "stream",
     "text": [
      "ROHAN rohan12@gmail.com 9876543210\n"
     ]
    }
   ],
   "source": [
    "Rohan.student_details()"
   ]
  },
  {
   "cell_type": "code",
   "execution_count": 35,
   "id": "2596bc0c-cff1-4fc2-a04c-73d622122d59",
   "metadata": {},
   "outputs": [
    {
     "data": {
      "text/plain": [
       "9876543210"
      ]
     },
     "execution_count": 35,
     "metadata": {},
     "output_type": "execute_result"
    }
   ],
   "source": [
    "Rohan.contact_number"
   ]
  },
  {
   "cell_type": "code",
   "execution_count": 36,
   "id": "fceb0b79-86a5-468c-810b-20030e40d979",
   "metadata": {},
   "outputs": [
    {
     "data": {
      "text/plain": [
       "'ROHAN'"
      ]
     },
     "execution_count": 36,
     "metadata": {},
     "output_type": "execute_result"
    }
   ],
   "source": [
    "Rohan.name"
   ]
  },
  {
   "cell_type": "code",
   "execution_count": 37,
   "id": "3e242254-c577-42ee-97e9-71df4cc7388e",
   "metadata": {},
   "outputs": [
    {
     "data": {
      "text/plain": [
       "'rohan12@gmail.com'"
      ]
     },
     "execution_count": 37,
     "metadata": {},
     "output_type": "execute_result"
    }
   ],
   "source": [
    "Rohan.email"
   ]
  },
  {
   "cell_type": "code",
   "execution_count": 38,
   "id": "e06827c7-ef76-415c-973b-2f88e5e923f4",
   "metadata": {},
   "outputs": [],
   "source": [
    "#deleting a function from a class\n",
    "del pwskills.change_contact_number"
   ]
  },
  {
   "cell_type": "code",
   "execution_count": 39,
   "id": "5b87fcea-7876-4f42-9a54-2ae01e201515",
   "metadata": {},
   "outputs": [],
   "source": [
    "def mentor(cls,mentor_name):\n",
    "    return mentor_name"
   ]
  },
  {
   "cell_type": "code",
   "execution_count": 40,
   "id": "7c2928c3-d166-43ba-891e-6e734d40f50e",
   "metadata": {},
   "outputs": [],
   "source": [
    "pwskills.mentor=classmethod (mentor)"
   ]
  },
  {
   "cell_type": "code",
   "execution_count": 44,
   "id": "91133d43-380d-4572-a8e7-ced2b652bc97",
   "metadata": {},
   "outputs": [
    {
     "data": {
      "text/plain": [
       "['Krish', 'Sudhanshu']"
      ]
     },
     "execution_count": 44,
     "metadata": {},
     "output_type": "execute_result"
    }
   ],
   "source": [
    "pwskills.mentor([\"Krish\",\"Sudhanshu\"])"
   ]
  },
  {
   "cell_type": "markdown",
   "id": "2e5d5065-c1d3-4005-a917-7f739bc1f8a8",
   "metadata": {},
   "source": [
    "### Static Method"
   ]
  },
  {
   "cell_type": "markdown",
   "id": "8537dec2-03ca-4af7-ba14-6b88f59d2593",
   "metadata": {},
   "source": [
    "Static methods are methods that are bound to a class rather than an instance of the class. They don't have access to instance variables and methods.\n",
    "\n",
    "They are defined using the @staticmethod decorator.\n",
    "\n",
    "Static methods don't receive any special first argument like self or cls. They are called directly on the class.\n",
    "\n",
    "Static methods are used when we need to define a method that doesn't depend on instance or class state, and can be called with the class itself.\n",
    "\n",
    "They can be used to implement utility functions that don't need access to instance or class state.\n",
    "\n",
    "They can also be used to define alternate constructors, where we pass arguments that are not specific to the instance.\n",
    "\n",
    "To call a static method, we use the class name instead of an instance. For example, MyClass.my_static_method().\n",
    "\n",
    "Static methods can't modify the state of an instance or class, but can modify the state of other objects.\n",
    "\n",
    "They are generally used to group utility functions together in a class namespace, or to provide alternate constructors for the class."
   ]
  },
  {
   "cell_type": "code",
   "execution_count": 60,
   "id": "fff385a0-f71a-4e6d-a521-13e5aaf28235",
   "metadata": {},
   "outputs": [],
   "source": [
    "class pwskills1:\n",
    "    mentor_list = [\"krish\", \"sudh\"]\n",
    "    mentor_email_id = [\"sudh@gmail.com\", \"krish@gmail.com\"]\n",
    "\n",
    "    def __init__(self, name, phone_number, batch_number, email_id):\n",
    "        self.name = name\n",
    "        self.phone_number = phone_number\n",
    "        self.batch_number = batch_number\n",
    "        self.email_id = email_id\n",
    "\n",
    "    @staticmethod\n",
    "    def mentors():\n",
    "        return pwskills1.mentor_list\n",
    "\n",
    "    @classmethod\n",
    "    def mentor_email(cls, mentor_index):\n",
    "        return cls.mentor_email_id[mentor_index]\n",
    "\n"
   ]
  },
  {
   "cell_type": "code",
   "execution_count": 61,
   "id": "84b2ab17-7469-4b69-afc5-650699d0c129",
   "metadata": {},
   "outputs": [],
   "source": [
    "person = pwskills1(\"John\", \"1234567890\", \"Batch 1\", \"john@example.com\")\n"
   ]
  },
  {
   "cell_type": "code",
   "execution_count": null,
   "id": "8e876699-0895-409c-b71c-691d3105a648",
   "metadata": {},
   "outputs": [
    {
     "name": "stdout",
     "output_type": "stream",
     "text": [
      "['krish', 'sudh']\n"
     ]
    }
   ],
   "source": [
    "\n",
    "mentors = pwskills1.mentors()\n",
    "print(mentors)\n"
   ]
  },
  {
   "cell_type": "code",
   "execution_count": 65,
   "id": "6c35e71a-47f7-4baa-8aab-416a5a716f92",
   "metadata": {},
   "outputs": [
    {
     "name": "stdout",
     "output_type": "stream",
     "text": [
      "krish@gmail.com\n"
     ]
    }
   ],
   "source": [
    "mentor_email = pwskills1.mentor_email(1)\n",
    "print(mentor_email)\n"
   ]
  },
  {
   "cell_type": "markdown",
   "id": "53d8ca62-c627-4e9e-ac47-aa2c1988d8bd",
   "metadata": {},
   "source": [
    "### How is Memory Optimization is done with staticmethod is different fom classmethod?\n",
    "\n",
    "Both static methods and class methods can be used to optimize memory in Python, but they do it in different ways.\n",
    "\n",
    "A static method is like a standalone function that is defined inside a class. It doesn't need to access or modify any data that belongs to the class or its instances. Because of this, it doesn't hold any references to the class or its instances, and therefore doesn't take up any memory for them.\n",
    "\n",
    "A class method is like a method that operates on the class rather than an instance of the class. It can modify class-level data, but not instance-level data. Because of this, it doesn't hold any references to instances of the class, but it does have access to the class itself. So it can take up some memory for the class, but not for instances of the class.\n",
    "\n",
    "In short, static methods are useful when we want to define a method that doesn't depend on any instance or class data, while class methods are useful when we want to define a method that modifies class-level data. Both can help optimize memory usage, but static methods do it by not holding any references to the class or its instances, while class methods do it by not holding any references to instances of the class."
   ]
  },
  {
   "cell_type": "markdown",
   "id": "303ca80c-f7fb-432c-a792-52eac19d015e",
   "metadata": {},
   "source": [
    "### OOP's CONCEPT\n",
    "Object-Oriented Programming (OOP) is a programming paradigm that is based on the concept of objects. Objects are instances of classes, which are like blueprints for creating objects. OOP focuses on creating reusable code that is easy to understand and modify."
   ]
  },
  {
   "cell_type": "markdown",
   "id": "568b93ca-1a43-4533-ba16-e12c0c71789e",
   "metadata": {},
   "source": [
    "### Polymorphism\n",
    "\n",
    "Polymorphism is the ability of objects to take on different forms. In OOP, polymorphism allows objects of different classes to be treated as if they were objects of the same class. This is achieved through method overriding and method overloading."
   ]
  },
  {
   "cell_type": "code",
   "execution_count": 2,
   "id": "3fd180a6-e189-4aca-99ed-303c6e3a99af",
   "metadata": {},
   "outputs": [],
   "source": [
    "class Sounds_of_animals:\n",
    "    def sound(self):\n",
    "        print(\"different animals makes different sounds\")"
   ]
  },
  {
   "cell_type": "code",
   "execution_count": 3,
   "id": "045b1b15-80ca-4518-a701-c9647c6fe80a",
   "metadata": {},
   "outputs": [],
   "source": [
    "class dog:\n",
    "    def sound(Sounds_of_aminals):\n",
    "        print(\"the dog barks\")"
   ]
  },
  {
   "cell_type": "code",
   "execution_count": 5,
   "id": "1b88e98a-5f37-4577-9a4a-5e41aa1aecc3",
   "metadata": {},
   "outputs": [],
   "source": [
    "class lion:\n",
    "    def sound(Sounds_of_aminals):\n",
    "        print(\"the lion roars\")"
   ]
  },
  {
   "cell_type": "code",
   "execution_count": 6,
   "id": "77d1b242-362a-42ca-81a2-910b9f047939",
   "metadata": {},
   "outputs": [],
   "source": [
    "Dog=dog()\n",
    "Lion=lion()\n",
    "Animals=Sounds_of_animals()"
   ]
  },
  {
   "cell_type": "code",
   "execution_count": 7,
   "id": "0027e82e-f9ae-4ea8-884b-396a9e72a1f7",
   "metadata": {},
   "outputs": [
    {
     "name": "stdout",
     "output_type": "stream",
     "text": [
      "the dog barks\n"
     ]
    }
   ],
   "source": [
    "Dog.sound()"
   ]
  },
  {
   "cell_type": "code",
   "execution_count": 8,
   "id": "2c5e3b1f-b8eb-47a6-b833-ef70b13baabe",
   "metadata": {},
   "outputs": [
    {
     "name": "stdout",
     "output_type": "stream",
     "text": [
      "the lion roars\n"
     ]
    }
   ],
   "source": [
    "Lion.sound()"
   ]
  },
  {
   "cell_type": "code",
   "execution_count": 9,
   "id": "dd26577a-d9ae-48c3-ab31-b4d6c440174a",
   "metadata": {},
   "outputs": [
    {
     "name": "stdout",
     "output_type": "stream",
     "text": [
      "different animals makes different sounds\n"
     ]
    }
   ],
   "source": [
    "Animals.sound()"
   ]
  },
  {
   "cell_type": "markdown",
   "id": "240a2967-8b3b-431c-b579-c34d1baab960",
   "metadata": {},
   "source": [
    "### Encapsulation\n",
    "\n",
    "Encapsulation is the practice of hiding the internal workings of an object from the outside world. It means that an object's state (i.e., its variables) can only be accessed through its methods (i.e., its functions). This protects the object from outside interference and makes it easier to maintain and modify."
   ]
  },
  {
   "cell_type": "code",
   "execution_count": 20,
   "id": "9187b603-385c-4251-817b-b0f9120cac6e",
   "metadata": {},
   "outputs": [],
   "source": [
    "class bank_account:\n",
    "    def __init__(self,balance):\n",
    "        self.__balance=balance\n",
    "        \n",
    "    def deposit(self,amount):\n",
    "        self.__balance = self.__balance + amount\n",
    "        \n",
    "    def withdraw(self,amount):\n",
    "        if self.__balance >= amount :\n",
    "            self.__balance=self.__balance - amount\n",
    "            return True\n",
    "        else :\n",
    "            return False\n",
    "    \n",
    "    def get_balance(self):\n",
    "        return self.__balance\n",
    "        "
   ]
  },
  {
   "cell_type": "code",
   "execution_count": 21,
   "id": "48af9deb-1577-42d7-bb8d-8c6cb1866f71",
   "metadata": {},
   "outputs": [],
   "source": [
    "Sania=bank_account(10000)"
   ]
  },
  {
   "cell_type": "code",
   "execution_count": 22,
   "id": "6abd3c76-b7f9-4d99-ba1c-a46d54168834",
   "metadata": {},
   "outputs": [
    {
     "data": {
      "text/plain": [
       "10000"
      ]
     },
     "execution_count": 22,
     "metadata": {},
     "output_type": "execute_result"
    }
   ],
   "source": [
    "Sania.get_balance()"
   ]
  },
  {
   "cell_type": "code",
   "execution_count": 23,
   "id": "1532c3ac-1a71-4677-b87b-caa95b1147cb",
   "metadata": {},
   "outputs": [
    {
     "data": {
      "text/plain": [
       "True"
      ]
     },
     "execution_count": 23,
     "metadata": {},
     "output_type": "execute_result"
    }
   ],
   "source": [
    "Sania.withdraw(5000)"
   ]
  },
  {
   "cell_type": "code",
   "execution_count": 24,
   "id": "0a5fc88e-3cc0-4365-a910-3d70ecf9c003",
   "metadata": {},
   "outputs": [
    {
     "data": {
      "text/plain": [
       "5000"
      ]
     },
     "execution_count": 24,
     "metadata": {},
     "output_type": "execute_result"
    }
   ],
   "source": [
    "Sania.get_balance()"
   ]
  },
  {
   "cell_type": "code",
   "execution_count": 25,
   "id": "f8574723-4517-40d2-8be7-081b4ae2c5c6",
   "metadata": {},
   "outputs": [],
   "source": [
    "Sania.deposit(7000)"
   ]
  },
  {
   "cell_type": "code",
   "execution_count": 26,
   "id": "e18cd509-f2cf-40b9-8a02-99422adf2da5",
   "metadata": {},
   "outputs": [
    {
     "data": {
      "text/plain": [
       "12000"
      ]
     },
     "execution_count": 26,
     "metadata": {},
     "output_type": "execute_result"
    }
   ],
   "source": [
    "Sania.get_balance()"
   ]
  },
  {
   "cell_type": "markdown",
   "id": "b3c46d6b-3aad-4d5c-aea6-de26a3d0c318",
   "metadata": {},
   "source": [
    "### Inheritance\n",
    "\n",
    "Inheritance is a mechanism that allows classes to inherit properties and behavior from other classes. The class that is being inherited from is called the parent or superclass, and the class that is inheriting is called the child or subclass. This enables you to reuse code and reduce duplication."
   ]
  },
  {
   "cell_type": "markdown",
   "id": "c0bfb581-cdc8-400e-92f8-ac661118b971",
   "metadata": {},
   "source": [
    "### Multiple inheritance:\n",
    "\n",
    "Multiple inheritance allows a subclass to inherit properties and methods from more than one parent class. In Python, for example, you can specify multiple parent classes by listing them in the class definition, separated by commas.\n",
    "\n"
   ]
  },
  {
   "cell_type": "code",
   "execution_count": 28,
   "id": "5b2c05f0-8af4-463f-a73d-f78ec66a683b",
   "metadata": {},
   "outputs": [],
   "source": [
    "class class1:\n",
    "    def test_class_1(self):\n",
    "        print(\"this is class 1\")"
   ]
  },
  {
   "cell_type": "code",
   "execution_count": 29,
   "id": "ed123fb8-28e7-42d2-9a22-77d963822f1e",
   "metadata": {},
   "outputs": [],
   "source": [
    "class class2:\n",
    "    def test_class_2(self):\n",
    "        print(\"this is class 2\")"
   ]
  },
  {
   "cell_type": "code",
   "execution_count": 30,
   "id": "dcdb73df-ddac-4623-831f-69b9c02c241b",
   "metadata": {},
   "outputs": [],
   "source": [
    "class class3(class1,class2):\n",
    "    pass"
   ]
  },
  {
   "cell_type": "code",
   "execution_count": 31,
   "id": "2fd2f8cd-eb44-461f-8bc8-8eb86a03c921",
   "metadata": {},
   "outputs": [],
   "source": [
    "obj_class1=class1()\n",
    "obj_class2=class2()\n",
    "obj_class3=class3()"
   ]
  },
  {
   "cell_type": "code",
   "execution_count": 32,
   "id": "f2dd591c-0fbf-47f7-a718-26f82550d3a5",
   "metadata": {},
   "outputs": [
    {
     "name": "stdout",
     "output_type": "stream",
     "text": [
      "this is class 1\n"
     ]
    }
   ],
   "source": [
    "obj_class3.test_class_1()"
   ]
  },
  {
   "cell_type": "code",
   "execution_count": 33,
   "id": "edee0317-8668-4bb1-80ce-5da1d4f8d263",
   "metadata": {},
   "outputs": [
    {
     "name": "stdout",
     "output_type": "stream",
     "text": [
      "this is class 2\n"
     ]
    }
   ],
   "source": [
    "obj_class3.test_class_2()"
   ]
  },
  {
   "cell_type": "markdown",
   "id": "fbc35e94-8f04-421e-9af6-8e431630bcca",
   "metadata": {},
   "source": [
    "### Multilevel inheritance:\n",
    "\n",
    "Multilevel inheritance involves creating a hierarchy of classes, where a subclass inherits from a superclass, which in turn inherits from another superclass, and so on."
   ]
  },
  {
   "cell_type": "code",
   "execution_count": 34,
   "id": "2b6e4280-27d9-4560-8e64-b42d40cf906f",
   "metadata": {},
   "outputs": [],
   "source": [
    "class class1:\n",
    "    def test1(self):\n",
    "        print(\"this is test class 1\")"
   ]
  },
  {
   "cell_type": "code",
   "execution_count": 35,
   "id": "99bf6f27-3387-48cc-91e2-abeeff1b808b",
   "metadata": {},
   "outputs": [],
   "source": [
    "class class2(class1):\n",
    "    def test2(self):\n",
    "        print(\"this is test class 2\")"
   ]
  },
  {
   "cell_type": "code",
   "execution_count": 36,
   "id": "d0e6b266-e42b-4397-bee6-523950b6b1a9",
   "metadata": {},
   "outputs": [],
   "source": [
    "class class3(class2):\n",
    "    def test3(self):\n",
    "        print(\"this is test class 3\")"
   ]
  },
  {
   "cell_type": "code",
   "execution_count": 37,
   "id": "54cf1a15-789f-416f-84c3-446f740cf5e9",
   "metadata": {},
   "outputs": [],
   "source": [
    "obj_of_class3=class3()"
   ]
  },
  {
   "cell_type": "code",
   "execution_count": 38,
   "id": "e25524e5-eada-4755-b247-b32884c576f2",
   "metadata": {},
   "outputs": [
    {
     "name": "stdout",
     "output_type": "stream",
     "text": [
      "this is test class 1\n"
     ]
    }
   ],
   "source": [
    "obj_of_class3.test1()"
   ]
  },
  {
   "cell_type": "code",
   "execution_count": 39,
   "id": "d40b2e87-2adb-4551-9a8b-8aa9f25fd155",
   "metadata": {},
   "outputs": [
    {
     "name": "stdout",
     "output_type": "stream",
     "text": [
      "this is test class 2\n"
     ]
    }
   ],
   "source": [
    "obj_of_class3.test2()"
   ]
  },
  {
   "cell_type": "code",
   "execution_count": 40,
   "id": "2e0bbc0d-3cad-4977-a8da-50bfefe50627",
   "metadata": {},
   "outputs": [
    {
     "name": "stdout",
     "output_type": "stream",
     "text": [
      "this is test class 3\n"
     ]
    }
   ],
   "source": [
    "obj_of_class3.test3()"
   ]
  },
  {
   "cell_type": "markdown",
   "id": "c29a869f-db57-4068-a40d-9cc377402c95",
   "metadata": {},
   "source": [
    "### Abstraction: \n",
    "\n",
    "Abstraction is the practice of reducing complexity by hiding unnecessary details while highlighting important ones. In OOP, abstraction is achieved through the use of abstract classes and interfaces. An abstract class is a class that cannot be instantiated and is only used as a base class for other classes. An interface is a contract that specifies a set of methods that a class must implement."
   ]
  },
  {
   "cell_type": "code",
   "execution_count": 41,
   "id": "fe70c74f-bfe1-4388-9d5f-e9e947e10783",
   "metadata": {},
   "outputs": [],
   "source": [
    "import abc"
   ]
  },
  {
   "cell_type": "code",
   "execution_count": 42,
   "id": "4d1dc5db-d5a2-4bde-9863-3bde60a91746",
   "metadata": {},
   "outputs": [],
   "source": [
    "from abc import ABC, abstractmethod\n",
    "\n",
    "class Vehicle(ABC):\n",
    "    @abstractmethod\n",
    "    def start(self):\n",
    "        pass\n",
    "\n",
    "    @abstractmethod\n",
    "    def stop(self):\n",
    "        pass\n",
    "\n",
    "class Car(Vehicle):\n",
    "    def start(self):\n",
    "        print(\"Starting the car\")\n",
    "\n",
    "    def stop(self):\n",
    "        print(\"Stopping the car\")\n",
    "\n",
    "class Bike(Vehicle):\n",
    "    def start(self):\n",
    "        print(\"Starting the bike\")\n",
    "\n",
    "    def stop(self):\n",
    "        print(\"Stopping the bike\")\n",
    "\n"
   ]
  },
  {
   "cell_type": "code",
   "execution_count": 43,
   "id": "16a6f3cf-ada6-446e-82e7-0d43dd7157fa",
   "metadata": {},
   "outputs": [
    {
     "name": "stdout",
     "output_type": "stream",
     "text": [
      "Starting the car\n",
      "Stopping the car\n",
      "Starting the bike\n",
      "Stopping the bike\n"
     ]
    }
   ],
   "source": [
    "# Create objects of each class and call the start and stop methods\n",
    "car = Car()\n",
    "bike = Bike()\n",
    "\n",
    "car.start()\n",
    "car.stop()\n",
    "bike.start()\n",
    "bike.stop()\n"
   ]
  },
  {
   "cell_type": "markdown",
   "id": "8da55c1c-78dd-47bd-b85c-2c6eeb0b9904",
   "metadata": {},
   "source": [
    "### Decorators\n",
    "\n",
    "A decorator in Python is a special type of function that can be used to modify or extend the behavior of another function, without modifying its source code directly. Decorators can be thought of as wrappers around functions, and they allow you to add functionality to a function before or after it is executed."
   ]
  },
  {
   "cell_type": "code",
   "execution_count": 46,
   "id": "22c03482-d73d-4e0b-a077-e625b7ad2c48",
   "metadata": {},
   "outputs": [],
   "source": [
    "def my_decorator(func):\n",
    "    def wrapper():\n",
    "        print(\"Before the function\")\n",
    "        func()\n",
    "        print(\"After the function\")\n",
    "    return wrapper\n",
    "\n",
    "@my_decorator\n",
    "def Say_hello():\n",
    "    print(\"Hello!\")\n",
    "    "
   ]
  },
  {
   "cell_type": "code",
   "execution_count": 47,
   "id": "c57da384-63f8-44c4-b720-1e8c8191e3e1",
   "metadata": {},
   "outputs": [
    {
     "name": "stdout",
     "output_type": "stream",
     "text": [
      "Before the function\n",
      "Hello!\n",
      "After the function\n"
     ]
    }
   ],
   "source": [
    "Say_hello()"
   ]
  }
 ],
 "metadata": {
  "kernelspec": {
   "display_name": "Python 3 (ipykernel)",
   "language": "python",
   "name": "python3"
  },
  "language_info": {
   "codemirror_mode": {
    "name": "ipython",
    "version": 3
   },
   "file_extension": ".py",
   "mimetype": "text/x-python",
   "name": "python",
   "nbconvert_exporter": "python",
   "pygments_lexer": "ipython3",
   "version": "3.10.8"
  }
 },
 "nbformat": 4,
 "nbformat_minor": 5
}
